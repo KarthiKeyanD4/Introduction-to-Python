{
 "cells": [
  {
   "cell_type": "markdown",
   "metadata": {},
   "source": [
    "# Lab 5: Simple OOP and numpy\n"
   ]
  },
  {
   "cell_type": "markdown",
   "metadata": {},
   "source": [
    "__Student:__ Karde799 (Karthikeyan Devarajan)\n",
    "\n",
    "__Student:__ Sresa472 (Sreenand Sasikumar)"
   ]
  },
  {
   "cell_type": "markdown",
   "metadata": {},
   "source": [
    "# 2. Introduction"
   ]
  },
  {
   "cell_type": "markdown",
   "metadata": {},
   "source": [
    "## Object-oriented Programming"
   ]
  },
  {
   "cell_type": "markdown",
   "metadata": {},
   "source": [
    "The point of Object-oriented Programming is to support encapsulation and the DRY (Don't Repeat Yourself) principle without things getting out of hand. Often, software architects (those high-level programmers who are responsible for how large systems are designed on a technical level) talk about Object-oriented design or Object-oriented analysis. The point of this is to identify the necessary _objects_ in a system. An object in this sense is not exactly the same as a Python object but rather a somewhat higher level logical unit which can reasonably be thought of as an independent component within the system. These high level objects might then be further subdivided into smaller and smaller objects and at a some level the responsibility shifts from the system architect to the team or individual developer working on a specific component. Thus, Object-oriented thinking is necessary for anyone developing code which will be integrated with a larger system, for instance a data scientist implementing analytics tools."
   ]
  },
  {
   "cell_type": "markdown",
   "metadata": {},
   "source": [
    "## OOP in Python"
   ]
  },
  {
   "cell_type": "markdown",
   "metadata": {},
   "source": [
    "Python implements the Object-oriented paradigm to a somewhat larger degree than the Functional paradigm. However, there are features considered necessary for _strict_ object-oriented programming missing from Python. Mainly, we are talking about data protection. Not in a software security sense, but in the sense of encapsulation. There is no simple way to strictly control access to member variables in Python. This does not affect this lab in any way but is worth remembering if one has worked in a language such as Java previously."
   ]
  },
  {
   "cell_type": "markdown",
   "metadata": {},
   "source": [
    "# 3. Simple instance tests in Python"
   ]
  },
  {
   "cell_type": "markdown",
   "metadata": {},
   "source": [
    "Note: some of these questions will be extremely simple, and some might prove trickier. Don't expect that the answer needs to be hard."
   ]
  },
  {
   "cell_type": "code",
   "execution_count": 1,
   "metadata": {},
   "outputs": [],
   "source": [
    "class Person:\n",
    "    def __init__(self, name):\n",
    "        self.name = name\n",
    "        self.age = 0            # Age should be non-negative.\n",
    "        \n",
    "    def get_age(self):\n",
    "        \"\"\"Return the Person's age, a non-negative number.\"\"\"\n",
    "        return self.age\n",
    "    \n",
    "    def return_five(self):\n",
    "        \"\"\"Return 5. Dummy function.\"\"\"\n",
    "        return 5\n",
    "\n",
    "Jackal = Person \n",
    "\n",
    "president = Person(\"Jeb\")\n",
    "psec = Jackal(\"CJ Cregg\")"
   ]
  },
  {
   "cell_type": "markdown",
   "metadata": {},
   "source": [
    "a) Change the age of the `president` to 65 (`psec` should be unaffected)."
   ]
  },
  {
   "cell_type": "code",
   "execution_count": 2,
   "metadata": {},
   "outputs": [
    {
     "name": "stdout",
     "output_type": "stream",
     "text": [
      "65\n"
     ]
    }
   ],
   "source": [
    "president.get_age = 65\n",
    "print(president.get_age)"
   ]
  },
  {
   "cell_type": "markdown",
   "metadata": {},
   "source": [
    "[Note: This mode of operation is sometimes considered poor OOP. We will remedy this later.]"
   ]
  },
  {
   "cell_type": "markdown",
   "metadata": {},
   "source": [
    "b) How many `Person` instances are there? One, two or three?"
   ]
  },
  {
   "cell_type": "code",
   "execution_count": 3,
   "metadata": {},
   "outputs": [
    {
     "data": {
      "text/plain": [
       "'There are two instances in this class Person. One is president and other is psec. The Jackal is just a type so when defining the psec it gets classified as person instances'"
      ]
     },
     "execution_count": 3,
     "metadata": {},
     "output_type": "execute_result"
    }
   ],
   "source": [
    "\"\"\"There are two instances in this class Person. One is president and other is psec. The Jackal is just a type so when defining the psec it gets classified as person instances\"\"\""
   ]
  },
  {
   "cell_type": "markdown",
   "metadata": {},
   "source": [
    "c) Consider the following code snippets. What do you think that they will return, and why? Discuss amongst yourselves. After that, run the code and explain the output. You only need to write down your explanation of the output."
   ]
  },
  {
   "cell_type": "code",
   "execution_count": 4,
   "metadata": {},
   "outputs": [
    {
     "data": {
      "text/plain": [
       "False"
      ]
     },
     "execution_count": 4,
     "metadata": {},
     "output_type": "execute_result"
    }
   ],
   "source": [
    "\"Jeb\" is Person"
   ]
  },
  {
   "cell_type": "code",
   "execution_count": 5,
   "metadata": {
    "scrolled": true
   },
   "outputs": [
    {
     "data": {
      "text/plain": [
       "False"
      ]
     },
     "execution_count": 5,
     "metadata": {},
     "output_type": "execute_result"
    }
   ],
   "source": [
    "president is Person"
   ]
  },
  {
   "cell_type": "code",
   "execution_count": 6,
   "metadata": {},
   "outputs": [
    {
     "data": {
      "text/plain": [
       "'Jeb is a name attribute for presicdent object which is of class Person. The president is an object of class Person. So both the code will be False.'"
      ]
     },
     "execution_count": 6,
     "metadata": {},
     "output_type": "execute_result"
    }
   ],
   "source": [
    "\"\"\"Jeb is a name attribute for presicdent object which is of class Person. The president is an object of class Person. So both the code will be False.\"\"\""
   ]
  },
  {
   "cell_type": "markdown",
   "metadata": {},
   "source": [
    "d) How would you go about checking whether or not the value bound to the name `president` is-a `Person`?"
   ]
  },
  {
   "cell_type": "code",
   "execution_count": 7,
   "metadata": {},
   "outputs": [
    {
     "name": "stdout",
     "output_type": "stream",
     "text": [
      "True\n"
     ]
    },
    {
     "data": {
      "text/plain": [
       "'The type for president is Person. so this signifies that persident is object of Person.'"
      ]
     },
     "execution_count": 7,
     "metadata": {},
     "output_type": "execute_result"
    }
   ],
   "source": [
    "print(isinstance(president, Person))\n",
    "\"\"\"The type for president is Person. so this signifies that persident is object of Person.\"\"\""
   ]
  },
  {
   "cell_type": "markdown",
   "metadata": {},
   "source": [
    "# 4. Subclasses"
   ]
  },
  {
   "cell_type": "markdown",
   "metadata": {},
   "source": [
    "a) Create class `Employee`, a subclass of `Person` with data attributes (fields) \n",
    "* `__work_days_accrued`\n",
    "* `__daily_salary`. \n",
    "\n",
    "These should be *the only* data attributes which you write in your class definition. In particular, you may not duplicate `name` and `age`.\n",
    "\n",
    "There should be methods\n",
    "* `work` which increments the number of work days accrued.\n",
    "* `expected_payout` which just returns the expected payout for the employee based on the accrued work days and daily salary (but without doing any resets).\n",
    "* `payout` which returns the accrued salary and resets the number of work days accrued. The `payout` function may not perform any calculations itself."
   ]
  },
  {
   "cell_type": "code",
   "execution_count": 8,
   "metadata": {},
   "outputs": [
    {
     "name": "stdout",
     "output_type": "stream",
     "text": [
      "--- Setting up test cases.\n",
      "--- Testing payout and expected_payout properties.\n",
      "OK\n",
      "--- Testing non-data-accessing calls to superclass methods.\n",
      "OK\n",
      "--- Testing data that should be set up by initialiser call.\n",
      "OK\n"
     ]
    }
   ],
   "source": [
    "class Employee(Person):\n",
    "    \n",
    "        def __init__(self,name, work_days_accured=0,daily_salary=15):\n",
    "            Person.__init__(self,name)\n",
    "            self.__work_days_accured = work_days_accured\n",
    "            self.__daily_salary = daily_salary\n",
    "            \n",
    "        def work(self):\n",
    "            self.__work_days_accured=self.__work_days_accured+1\n",
    "            \n",
    "        def expected_payout(self):\n",
    "            return self.__work_days_accured*self.__daily_salary\n",
    "        \n",
    "        def payout(self):\n",
    "            a=self.expected_payout()\n",
    "            self.__work_days_accured=0\n",
    "            return a\n",
    "\n",
    "# Ready-made tests.\n",
    "print(\"--- Setting up test cases.\")\n",
    "cleaner = Employee(name = \"Scruffy\")  # Should have daily_salary 15.\n",
    "josh = Employee(name = \"Josh\", daily_salary = 1000)\n",
    "toby = Employee(name = \"Toby\", daily_salary = 9999)\n",
    "\n",
    "josh.work()\n",
    "josh.work()\n",
    "toby.work()\n",
    "toby.work()\n",
    "toby.work()\n",
    "cleaner.work()\n",
    "print(\"--- Testing payout and expected_payout properties.\")\n",
    "assert cleaner.expected_payout() == 15, \"default salary should be 15\"\n",
    "assert josh.expected_payout() == 1000*2\n",
    "assert josh.payout() == 1000*2\n",
    "assert josh.expected_payout() == 0, \"salary should be reset afterwards\"\n",
    "assert toby.payout() == 9999*3, \"toby and josh instances should be independent.\"\n",
    "print(\"OK\")\n",
    "\n",
    "print(\"--- Testing non-data-accessing calls to superclass methods.\")\n",
    "assert josh.return_five() == 5, \"Person.return_five should be accessible\"\n",
    "print(\"OK\")\n",
    "\n",
    "print(\"--- Testing data that should be set up by initialiser call.\")\n",
    "assert josh.get_age() == 0, \"superclass method should be callable, values should not be missing.\"\n",
    "josh.age = 9\n",
    "assert josh.get_age() == 9, \"superclass method should be callable\"\n",
    "print(\"OK\")"
   ]
  },
  {
   "cell_type": "markdown",
   "metadata": {},
   "source": [
    "b) Which public data attributes (fields) does an `Employee` have? Can you access the age of an employee directly (without some transformation of the name)? The daily salary?"
   ]
  },
  {
   "cell_type": "code",
   "execution_count": 9,
   "metadata": {},
   "outputs": [
    {
     "data": {
      "text/plain": [
       "<__main__.Employee at 0x2072613a348>"
      ]
     },
     "execution_count": 9,
     "metadata": {},
     "output_type": "execute_result"
    }
   ],
   "source": [
    "# Answer here.\n",
    "\"\"\"Here name and age are the attributes have been describeed as public attributes.These are attributes of Person but for Employee every attributes are private variable.\"\"\"\n",
    "josh"
   ]
  },
  {
   "cell_type": "markdown",
   "metadata": {},
   "source": [
    "# 5. Introductory numpy"
   ]
  },
  {
   "cell_type": "markdown",
   "metadata": {},
   "source": [
    "A lot of computations will likely end up using data stored `numpy` arrays. Therefore, it is a good idea to have a feeling for how they are used and manipulated. The following steps will provide some introduction, so that we can build upon this in future labs.\n",
    "\n",
    "You may want to refer to the [official numpy.org absolute beginners guide to numpy](https://numpy.org/devdocs/user/absolute_beginners.html)."
   ]
  },
  {
   "cell_type": "markdown",
   "metadata": {},
   "source": [
    "a) Import the module `numpy`, giving it the shorthand `np`."
   ]
  },
  {
   "cell_type": "code",
   "execution_count": 10,
   "metadata": {},
   "outputs": [],
   "source": [
    "import numpy as np"
   ]
  },
  {
   "cell_type": "markdown",
   "metadata": {},
   "source": [
    "b) Create the $2 \\times 3$ matrix $A = \\begin{bmatrix}1 & 2 & 3 \\\\ 0 & 0 & 1\\end{bmatrix}$"
   ]
  },
  {
   "cell_type": "code",
   "execution_count": 11,
   "metadata": {},
   "outputs": [
    {
     "name": "stdout",
     "output_type": "stream",
     "text": [
      "[[1 2 3]\n",
      " [0 0 1]]\n"
     ]
    }
   ],
   "source": [
    "A = np.matrix([[1, 2, 3], [0, 0, 1]])\n",
    "print(A)"
   ]
  },
  {
   "cell_type": "markdown",
   "metadata": {},
   "source": [
    "c) Create the vector $b = \\begin{bmatrix}1\\\\ 2 \\\\ 3 \\end{bmatrix}$"
   ]
  },
  {
   "cell_type": "code",
   "execution_count": 12,
   "metadata": {},
   "outputs": [
    {
     "name": "stdout",
     "output_type": "stream",
     "text": [
      "[[1]\n",
      " [2]\n",
      " [3]]\n"
     ]
    }
   ],
   "source": [
    "b = np.matrix([[1],[2],[3]])\n",
    "print(b)"
   ]
  },
  {
   "cell_type": "markdown",
   "metadata": {},
   "source": [
    "d) Perform the multiplication $Ab$. What is the result?"
   ]
  },
  {
   "cell_type": "code",
   "execution_count": 13,
   "metadata": {},
   "outputs": [
    {
     "name": "stdout",
     "output_type": "stream",
     "text": [
      "[[14]\n",
      " [ 3]]\n"
     ]
    }
   ],
   "source": [
    "c = A.dot(b)\n",
    "print(c)"
   ]
  },
  {
   "cell_type": "markdown",
   "metadata": {},
   "source": [
    "e) Mathematically, what should the dimensions of $b^Tb$ be? What should the dimensions of $bb^T$ be?"
   ]
  },
  {
   "cell_type": "code",
   "execution_count": 14,
   "metadata": {},
   "outputs": [
    {
     "data": {
      "text/plain": [
       "'\\nThe size of 𝑏𝑇𝑏 will be 1*1 because the size of bT is 1*3 and size of b is 3*1. so the result will be 1*1. However the size of bbT will be 3*3.\\n'"
      ]
     },
     "execution_count": 14,
     "metadata": {},
     "output_type": "execute_result"
    }
   ],
   "source": [
    "\"\"\"\n",
    "The size of 𝑏𝑇𝑏 will be 1*1 because the size of bT is 1*3 and size of b is 3*1. so the result will be 1*1. However the size of bbT will be 3*3.\n",
    "\"\"\""
   ]
  },
  {
   "cell_type": "markdown",
   "metadata": {},
   "source": [
    "f) Compute ```b.T @ b```? ```b @ b.T``` in numpy. How would you go about calculating $bb^T$ (if you wanted to actually store it as a matrix, which is rarely the most space- or time-efficient idea)?"
   ]
  },
  {
   "cell_type": "code",
   "execution_count": 15,
   "metadata": {},
   "outputs": [
    {
     "name": "stdout",
     "output_type": "stream",
     "text": [
      "[[14]]\n",
      "[[1 2 3]\n",
      " [2 4 6]\n",
      " [3 6 9]]\n"
     ]
    }
   ],
   "source": [
    "b_transpose = b.transpose()\n",
    "q = b_transpose.dot(b)\n",
    "print(q)\n",
    "z = b.dot(b_transpose)\n",
    "print(z)"
   ]
  },
  {
   "cell_type": "markdown",
   "metadata": {},
   "source": [
    "Note: as `a @ b` is read `a.dot(b)` this should perhaps not be entirely surprising. But it is non-obvious."
   ]
  },
  {
   "cell_type": "markdown",
   "metadata": {},
   "source": [
    "d) Try to solve the equation $Ax = b$ using the `solve` method. Does this make mathematical sense? What does numpy say? Read the error message."
   ]
  },
  {
   "cell_type": "code",
   "execution_count": 16,
   "metadata": {},
   "outputs": [],
   "source": [
    "#x = np.linalg.solve(A,b)"
   ]
  },
  {
   "cell_type": "code",
   "execution_count": 17,
   "metadata": {},
   "outputs": [
    {
     "data": {
      "text/plain": [
       "'The error is because the two matrix are not symmetric. Solve is also used to find the unknown values in a equation. In this case, There is in need for inverse while solving the equation. Inverse can be done only for symmetric matrix.'"
      ]
     },
     "execution_count": 17,
     "metadata": {},
     "output_type": "execute_result"
    }
   ],
   "source": [
    "\"\"\"The error is because the two matrix are not symmetric. Solve is also used to find the unknown values in a equation. In this case, There is in need for inverse while solving the equation. Inverse can be done only for symmetric matrix.\"\"\""
   ]
  },
  {
   "cell_type": "markdown",
   "metadata": {},
   "source": [
    "e) Try to solve the equation $A^Tx = b$ using numpy. Does this make mathematical sense? What does numpy say?"
   ]
  },
  {
   "cell_type": "code",
   "execution_count": 18,
   "metadata": {},
   "outputs": [],
   "source": [
    "#e = np.linalg.solve(A.T,b)"
   ]
  },
  {
   "cell_type": "code",
   "execution_count": 19,
   "metadata": {},
   "outputs": [
    {
     "data": {
      "text/plain": [
       "'\\n    \\nIt show same error. It also undergoes the same reason that is the A matrix is not a square matrix. \\n\\n'"
      ]
     },
     "execution_count": 19,
     "metadata": {},
     "output_type": "execute_result"
    }
   ],
   "source": [
    "\"\"\"\n",
    "    \n",
    "It show same error. It also undergoes the same reason that is the A matrix is not a square matrix. \n",
    "\n",
    "\"\"\""
   ]
  },
  {
   "cell_type": "markdown",
   "metadata": {},
   "source": [
    "f) One of the two tasks above make sense from a mathematical point of view. Find a best solution $x$ in the least squares sense."
   ]
  },
  {
   "cell_type": "code",
   "execution_count": 20,
   "metadata": {},
   "outputs": [
    {
     "data": {
      "text/plain": [
       "'A.T*x = b will make more sense because because the dimension of A.T is 3*1 and dimension of x is 1*3. '"
      ]
     },
     "execution_count": 20,
     "metadata": {},
     "output_type": "execute_result"
    }
   ],
   "source": [
    "\"\"\"A.T*x = b will make more sense because because the dimension of A.T is 3*1 and dimension of x is 1*3. \"\"\" "
   ]
  },
  {
   "cell_type": "code",
   "execution_count": 21,
   "metadata": {},
   "outputs": [],
   "source": [
    "x = np.linalg.lstsq(A.transpose(),b,rcond=None)[0]"
   ]
  },
  {
   "cell_type": "markdown",
   "metadata": {},
   "source": [
    "g) Is the resulting $Ax$ or $A^Tx$ (depending on your choice above) close to $b$? What is the norm-2-distance between the vectors?"
   ]
  },
  {
   "cell_type": "code",
   "execution_count": 22,
   "metadata": {},
   "outputs": [
    {
     "data": {
      "text/plain": [
       "1.159106867033638e-15"
      ]
     },
     "execution_count": 22,
     "metadata": {},
     "output_type": "execute_result"
    }
   ],
   "source": [
    "L2_norm = np.linalg.norm(A.T*x - b)\n",
    "L2_norm"
   ]
  },
  {
   "cell_type": "markdown",
   "metadata": {},
   "source": [
    "Just to get some practice, run the following to get some test data:"
   ]
  },
  {
   "cell_type": "code",
   "execution_count": 23,
   "metadata": {},
   "outputs": [],
   "source": [
    "import sklearn\n",
    "import sklearn.datasets as ds\n",
    "houses = ds.fetch_california_housing()"
   ]
  },
  {
   "cell_type": "markdown",
   "metadata": {},
   "source": [
    "h) How many rows does the dataset have? Columns? Find out using numpy. (First check what `houses` actually is)"
   ]
  },
  {
   "cell_type": "code",
   "execution_count": 24,
   "metadata": {},
   "outputs": [
    {
     "name": "stdout",
     "output_type": "stream",
     "text": [
      "(20640, 8)\n"
     ]
    },
    {
     "data": {
      "text/plain": [
       "'Bunch objects are sometimes used as an output for functions and methods. There are 20640 rows and 8 columns'"
      ]
     },
     "execution_count": 24,
     "metadata": {},
     "output_type": "execute_result"
    }
   ],
   "source": [
    "print(houses.data.shape)\n",
    "\"\"\"Bunch objects are sometimes used as an output for functions and methods. There are 20640 rows and 8 columns\"\"\""
   ]
  },
  {
   "cell_type": "markdown",
   "metadata": {},
   "source": [
    "i) Get the third column (remember: indexing starts at zero, so column number 2) of the dataset by indexing/slicing."
   ]
  },
  {
   "cell_type": "code",
   "execution_count": 25,
   "metadata": {},
   "outputs": [
    {
     "name": "stdout",
     "output_type": "stream",
     "text": [
      "[[6.98412698]\n",
      " [6.23813708]\n",
      " [8.28813559]\n",
      " ...\n",
      " [5.20554273]\n",
      " [5.32951289]\n",
      " [5.25471698]]\n"
     ]
    }
   ],
   "source": [
    "third_column = houses.data[:,[2]]\n",
    "print(third_column)"
   ]
  },
  {
   "cell_type": "markdown",
   "metadata": {},
   "source": [
    "j) Get the values of the third, fourth and hundredrth rows (that is, index 2, 3, 99)."
   ]
  },
  {
   "cell_type": "code",
   "execution_count": 26,
   "metadata": {},
   "outputs": [],
   "source": [
    "three_column = houses.data[[2,3,99],:]"
   ]
  },
  {
   "cell_type": "markdown",
   "metadata": {},
   "source": [
    "k) Mathematical sanity check: without actually computing the rank of ```houses.data```, can you provide a bound? Could it have $10^{15}$ linearly independent rows? 2000? Etc. Write down the tightest bound you can find, and explain why briefly."
   ]
  },
  {
   "cell_type": "code",
   "execution_count": 27,
   "metadata": {},
   "outputs": [
    {
     "data": {
      "text/plain": [
       "'consider the size of matrix to be m * n, then rank(A) is min(m, n). Here, the minimum vaue is 8. so that is the rank. Since, the maximum rows is 20640 there cannot be 10^15 linearly independant rows.'"
      ]
     },
     "execution_count": 27,
     "metadata": {},
     "output_type": "execute_result"
    }
   ],
   "source": [
    "\"\"\"consider the size of matrix to be m * n, then rank(A) is min(m, n). Here, the minimum vaue is 8. so that is the rank. Since, the maximum rows is 20640 there cannot be 10^15 linearly independant rows.\"\"\""
   ]
  },
  {
   "cell_type": "markdown",
   "metadata": {},
   "source": [
    "l) Find out the actual rank of the matrix using numpy. "
   ]
  },
  {
   "cell_type": "code",
   "execution_count": 28,
   "metadata": {},
   "outputs": [
    {
     "name": "stdout",
     "output_type": "stream",
     "text": [
      "8\n"
     ]
    }
   ],
   "source": [
    "rank = np.linalg.matrix_rank(houses.data)\n",
    "print(rank)"
   ]
  },
  {
   "cell_type": "markdown",
   "metadata": {},
   "source": [
    "# 6. A simple classifier"
   ]
  },
  {
   "cell_type": "markdown",
   "metadata": {},
   "source": [
    "Our goal in this section is to build a naïve subspace-projection based classifier which takes a numerical vector and produces a label. We will build this from the ground up (there are many libraries that perform this automatically, but may not use them in this case).\n",
    "\n",
    "We will first practice our numpy (and linear algebra) skills to build the algorithm, and then encapsulate data and methods in a class. We will be taking a slightly different route than more general SVD methods for finding principal components, simply because this is not our task. This is worth remembering if you find material on the subject!\n",
    "\n",
    "The main idea here is to pick out all the data corresponding to a certain set of vectors, and reduce this matrix to some rank $\\leq k$ matrix which is a good approximation of the row space in some sense (here: the sense that the vectors correspond to maximal singular values). A naïve classification is then given by picking the subspace which is closest by orthogonal projection."
   ]
  },
  {
   "cell_type": "markdown",
   "metadata": {},
   "source": [
    "## The dataset"
   ]
  },
  {
   "cell_type": "markdown",
   "metadata": {},
   "source": [
    "First, we will import some data. Here we use the classic MNIST data set of handwritten digits. We can naturally partition the sets of vectors used for training and validation in many ways. Feel free to experiment with a nicer (possibly non-deterministic) version later. This is only to get us started, and to have a set of data with known properties (which is helpful for lab assistants)."
   ]
  },
  {
   "cell_type": "code",
   "execution_count": 29,
   "metadata": {},
   "outputs": [],
   "source": [
    "import sklearn.datasets as ds\n",
    "digits = ds.load_digits()\n",
    "training_digits = digits.data[0:600,:]\n",
    "validation_digits = digits.data[600:,:]\n",
    "training_labels = digits.target[0:600]\n",
    "validation_labels = digits.target[600:]\n",
    "# The set of labels can be found in digits.target_names."
   ]
  },
  {
   "cell_type": "markdown",
   "metadata": {},
   "source": [
    "If we are curious, we can view the images from the dataset."
   ]
  },
  {
   "cell_type": "code",
   "execution_count": 30,
   "metadata": {},
   "outputs": [
    {
     "data": {
      "text/plain": [
       "Text(0.5, 0, 'Index: 2, actually the number 2')"
      ]
     },
     "execution_count": 30,
     "metadata": {},
     "output_type": "execute_result"
    },
    {
     "data": {
      "image/png": "[encoded data removed]",
      "text/plain": [
       "<Figure size 432x288 with 1 Axes>"
      ]
     },
     "metadata": {
      "needs_background": "light"
     },
     "output_type": "display_data"
    }
   ],
   "source": [
    "%matplotlib inline\n",
    "from matplotlib import pyplot as plt \n",
    "# We show one of the digits.\n",
    "d_index = 2\n",
    "plt.imshow(training_digits[d_index].reshape(8,8))\n",
    "plt.xlabel(f\"Index: {d_index}, actually the number {training_labels[d_index]}\")\n",
    "# Note: digits.images[i] is the same as digits.data[i], but in 8x8 format (no need to reshape).\n",
    "# We would however like to stress that the 64 pixel images we'll be working with are stored in vector format."
   ]
  },
  {
   "cell_type": "markdown",
   "metadata": {},
   "source": [
    "## Tasks"
   ]
  },
  {
   "cell_type": "markdown",
   "metadata": {},
   "source": [
    "a) Get all rows with label 4. Store that in the matrix $A_4$. Similarly for $A_9$. This should be two single lines of code!"
   ]
  },
  {
   "cell_type": "code",
   "execution_count": 31,
   "metadata": {},
   "outputs": [],
   "source": [
    "a4 = training_digits[training_labels == 4]# Replace with your code.\n",
    "a9 = training_digits[training_labels == 9] # Replace with your code."
   ]
  },
  {
   "cell_type": "markdown",
   "metadata": {},
   "source": [
    "b) Compute the thin SVD $A_4 = U_4\\Sigma_4 V^T_4$ and similarly for $A_9$. Thin here means that you do not necessarily get the full-rank square $U,V^T$ matrices."
   ]
  },
  {
   "cell_type": "code",
   "execution_count": 32,
   "metadata": {},
   "outputs": [],
   "source": [
    "u4,s4,v4_t = np.linalg.svd(a4,full_matrices=False)\n",
    "u9,s9,v9_t = np.linalg.svd(a4,full_matrices=False)"
   ]
  },
  {
   "cell_type": "markdown",
   "metadata": {},
   "source": [
    "**Note** Our data is stored by row (one row per digit). What we use the different matrices in the decomposition for is thus slightly different than if it was stored by column. Instead of picking the best $k$ columns of $U$ we pick the best $k$ rows of $V^T$."
   ]
  },
  {
   "cell_type": "markdown",
   "metadata": {},
   "source": [
    "c) Let $sample4$ be the first row of $A_4$ and $sample9$ be the first row of $A_9$."
   ]
  },
  {
   "cell_type": "code",
   "execution_count": 33,
   "metadata": {},
   "outputs": [],
   "source": [
    "sample4 = a4[0,:]\n",
    "sample9 = a9[0,:]"
   ]
  },
  {
   "cell_type": "markdown",
   "metadata": {},
   "source": [
    "d) Let $R$ be the first 3 rows of $V^T$. Compute the orthogonal projection of $sample4$ onto the row space of $R_4$, and onto the row space of $R_9$"
   ]
  },
  {
   "cell_type": "code",
   "execution_count": 34,
   "metadata": {},
   "outputs": [],
   "source": [
    "r4 = v4_t[0:3,:]# Your code here.\n",
    "r9 = v9_t[0:3,:]# Your code here\n",
    "coeffs_in_r4 = sample4 @ r4.T # What are the coordinates of sample4 orthogonally projected onto R4?\n",
    "coeffs_in_r9 = sample9 @ r9.T \n",
    "\n",
    "sample4_in_r4 = coeffs_in_r4 @ r4 # Linear combination of rows in R4\n",
    "sample4_in_r9 = coeffs_in_r9 @ r9   # Your code here.\n"
   ]
  },
  {
   "cell_type": "markdown",
   "metadata": {},
   "source": [
    "[Mathematical aside: where did the $\\Sigma$ go? This is a very important matrix, and strongly affects both interpretations and (in general) row- and column spaces. *Assuming* that the rank is $\\geq 3$ the row spaces should be the same whether or not we scale the basis vectors by some $\\sigma_i$ (since $\\sigma_i > 0$ for all $i=1,2,\\ldots, r$). That is enough for our application, though the interpretations of the vectors might be different. The rank assumption is rather important, and we will make rather casually based on knowledge about the data set. Later, we'll include a check for this in our code.]"
   ]
  },
  {
   "cell_type": "markdown",
   "metadata": {},
   "source": [
    "e) Which of the projections is closest to sample4 (in the sense that the difference (sample4_in_z**?**t - sample4) as the smallest 2-norm?"
   ]
  },
  {
   "cell_type": "code",
   "execution_count": 35,
   "metadata": {},
   "outputs": [
    {
     "name": "stdout",
     "output_type": "stream",
     "text": [
      "19.75899698363074\n",
      "42.06800100508024\n"
     ]
    }
   ],
   "source": [
    "print(np.linalg.norm(sample4_in_r4 - sample4))\n",
    "print(np.linalg.norm(sample4_in_r9 - sample9))"
   ]
  },
  {
   "cell_type": "markdown",
   "metadata": {},
   "source": [
    "f) Create a function `split_data(data, data_labels, labels)` which takes a matrix of data (such as `training_data`), the labels of all rows (such as `training_labels`) and a vector of the labels (here the numbers 0,...,9) and returns a dictionary mapping a label to the matrix of all corresponding data. \n",
    "\n",
    "Here the dictionary would for instance have the key 2, and the corresponding value be the matrix of all the images in `data` classified as the number 2."
   ]
  },
  {
   "cell_type": "code",
   "execution_count": 36,
   "metadata": {},
   "outputs": [
    {
     "name": "stdout",
     "output_type": "stream",
     "text": [
      "{0: array([[0., 0., 5., ..., 0., 0., 0.],\n",
      "       [0., 0., 1., ..., 3., 0., 0.],\n",
      "       [0., 0., 3., ..., 4., 0., 0.],\n",
      "       ...,\n",
      "       [0., 0., 9., ..., 4., 0., 0.],\n",
      "       [0., 0., 5., ..., 8., 1., 0.],\n",
      "       [0., 0., 6., ..., 6., 0., 0.]]), 1: array([[ 0.,  0.,  0., ..., 10.,  0.,  0.],\n",
      "       [ 0.,  0.,  0., ..., 16.,  1.,  0.],\n",
      "       [ 0.,  0.,  0., ..., 15.,  4.,  0.],\n",
      "       ...,\n",
      "       [ 0.,  0.,  1., ..., 10.,  0.,  0.],\n",
      "       [ 0.,  0.,  8., ...,  7.,  0.,  0.],\n",
      "       [ 0.,  0.,  6., ...,  4.,  0.,  0.]]), 2: array([[ 0.,  0.,  0., ..., 16.,  9.,  0.],\n",
      "       [ 0.,  0.,  5., ..., 13., 12.,  4.],\n",
      "       [ 0.,  0.,  8., ..., 12., 13.,  1.],\n",
      "       ...,\n",
      "       [ 0.,  3., 14., ..., 11.,  1.,  0.],\n",
      "       [ 0.,  1., 10., ..., 10.,  9.,  0.],\n",
      "       [ 0.,  0., 15., ...,  6.,  2.,  0.]]), 3: array([[ 0.,  0.,  7., ...,  9.,  0.,  0.],\n",
      "       [ 0.,  2.,  9., ..., 11.,  0.,  0.],\n",
      "       [ 0.,  1.,  8., ...,  2.,  0.,  0.],\n",
      "       ...,\n",
      "       [ 0.,  0.,  3., ...,  8.,  2.,  0.],\n",
      "       [ 0.,  1.,  7., ...,  6.,  0.,  0.],\n",
      "       [ 0.,  2., 10., ...,  9.,  0.,  0.]]), 4: array([[0., 0., 0., ..., 4., 0., 0.],\n",
      "       [0., 0., 0., ..., 4., 0., 0.],\n",
      "       [0., 0., 0., ..., 8., 0., 0.],\n",
      "       ...,\n",
      "       [0., 0., 0., ..., 7., 0., 0.],\n",
      "       [0., 0., 0., ..., 9., 0., 0.],\n",
      "       [0., 0., 0., ..., 4., 0., 0.]]), 5: array([[ 0.,  0., 12., ..., 10.,  0.,  0.],\n",
      "       [ 0.,  5., 12., ...,  0.,  0.,  0.],\n",
      "       [ 0.,  0., 12., ...,  0.,  0.,  0.],\n",
      "       ...,\n",
      "       [ 0.,  0., 12., ...,  4.,  0.,  0.],\n",
      "       [ 0.,  0.,  1., ...,  4.,  0.,  0.],\n",
      "       [ 0.,  0., 10., ...,  4.,  0.,  0.]]), 6: array([[ 0.,  0.,  0., ..., 11.,  3.,  0.],\n",
      "       [ 0.,  0.,  0., ..., 16., 11.,  0.],\n",
      "       [ 0.,  0.,  1., ..., 14.,  7.,  0.],\n",
      "       ...,\n",
      "       [ 0.,  0.,  2., ..., 13.,  7.,  0.],\n",
      "       [ 0.,  0.,  0., ..., 12.,  5.,  0.],\n",
      "       [ 0.,  0.,  2., ..., 14.,  4.,  0.]]), 7: array([[ 0.,  0.,  7., ...,  0.,  0.,  0.],\n",
      "       [ 0.,  0.,  1., ...,  0.,  0.,  0.],\n",
      "       [ 0.,  0.,  0., ...,  1.,  0.,  0.],\n",
      "       ...,\n",
      "       [ 0.,  0.,  6., ...,  0.,  0.,  0.],\n",
      "       [ 0.,  0.,  3., ...,  0.,  0.,  0.],\n",
      "       [ 0.,  1., 10., ...,  0.,  0.,  0.]]), 8: array([[ 0.,  0.,  9., ..., 11.,  1.,  0.],\n",
      "       [ 0.,  0., 10., ...,  0.,  0.,  0.],\n",
      "       [ 0.,  0., 10., ...,  1.,  0.,  0.],\n",
      "       ...,\n",
      "       [ 0.,  0.,  5., ...,  3.,  0.,  0.],\n",
      "       [ 0.,  0.,  1., ...,  6.,  0.,  0.],\n",
      "       [ 0.,  0., 10., ..., 12.,  1.,  0.]]), 9: array([[ 0.,  0., 11., ...,  3.,  0.,  0.],\n",
      "       [ 0.,  0.,  6., ..., 13., 11.,  1.],\n",
      "       [ 0.,  0.,  9., ..., 12., 11.,  0.],\n",
      "       ...,\n",
      "       [ 0.,  0.,  4., ...,  9.,  0.,  0.],\n",
      "       [ 0.,  0.,  4., ...,  9.,  0.,  0.],\n",
      "       [ 0.,  0.,  2., ..., 12.,  0.,  0.]])}\n"
     ]
    }
   ],
   "source": [
    "def split_data(data,data_labels,labels):\n",
    "    labelled_data = dict()\n",
    "    for label in labels:\n",
    "        labelled_data[label] = data[data_labels == label]\n",
    "    return labelled_data\n",
    "\n",
    "spl_data = split_data(digits.data,digits.target,digits.target_names)\n",
    "print(spl_data)"
   ]
  },
  {
   "cell_type": "markdown",
   "metadata": {},
   "source": [
    "f) Create a function `subspaces(labelled_data, k = 3)` that takes a dictionary such as above, and returns a dictionary mapping every occurring label $d$ to the respective $Z_d$ matrix with at most $k$ rows. Here the $Z_d$ matrices is defined as above, the best norm-2-approximation. If a particular matrix has a rank $r < k$, we should only keep $r$ rows (say, if there were many more *different* digit 9-rows in the training set, than digit 1:s)!"
   ]
  },
  {
   "cell_type": "code",
   "execution_count": 37,
   "metadata": {},
   "outputs": [
    {
     "name": "stdout",
     "output_type": "stream",
     "text": [
      "{0: array([[ 6.75419488e-18,  3.56640169e-04,  7.23451096e-02,\n",
      "         2.28024514e-01,  1.96101895e-01,  5.01956583e-02,\n",
      "         5.99030393e-04,  0.00000000e+00,  0.00000000e+00,\n",
      "         1.53785061e-02,  2.18502773e-01,  2.33459605e-01,\n",
      "         2.02333194e-01,  1.96944130e-01,  1.64392469e-02,\n",
      "         0.00000000e+00,  0.00000000e+00,  6.48931005e-02,\n",
      "         2.48870710e-01,  9.43173977e-02,  3.78767982e-02,\n",
      "         2.13218646e-01,  6.11447859e-02,  0.00000000e+00,\n",
      "         0.00000000e+00,  9.21548675e-02,  2.23143764e-01,\n",
      "         3.56415277e-02,  2.51383193e-03,  1.59931168e-01,\n",
      "         1.12111187e-01,  0.00000000e+00,  0.00000000e+00,\n",
      "         1.02000119e-01,  2.03740677e-01,  1.64843431e-02,\n",
      "         8.18476092e-04,  1.54718673e-01,  1.24437327e-01,\n",
      "         0.00000000e+00,  0.00000000e+00,  6.11034576e-02,\n",
      "         2.32713947e-01,  3.09812333e-02,  2.76533247e-02,\n",
      "         1.98821726e-01,  1.02343200e-01,  0.00000000e+00,\n",
      "         0.00000000e+00,  1.41736820e-02,  2.27210967e-01,\n",
      "         1.76116106e-01,  1.82964709e-01,  2.31705692e-01,\n",
      "         4.17637134e-02,  0.00000000e+00,  0.00000000e+00,\n",
      "         7.20105209e-05,  7.22549397e-02,  2.34949893e-01,\n",
      "         2.31625474e-01,  9.41103429e-02,  4.50261405e-03,\n",
      "         0.00000000e+00],\n",
      "       [-2.93194372e-17, -2.00542558e-03, -1.69331014e-01,\n",
      "        -8.49521382e-02, -1.07975691e-01, -9.84776010e-02,\n",
      "        -1.00624390e-03,  0.00000000e+00,  0.00000000e+00,\n",
      "        -5.47439959e-02, -2.64976621e-01,  9.92614011e-02,\n",
      "         1.67161228e-01, -1.35152518e-01, -3.81724680e-02,\n",
      "         0.00000000e+00,  0.00000000e+00, -1.41531760e-01,\n",
      "        -2.89801506e-02,  3.81607494e-01,  1.13720240e-01,\n",
      "         6.22674840e-02, -1.05963279e-01,  0.00000000e+00,\n",
      "         0.00000000e+00, -1.40268093e-01,  1.39720678e-01,\n",
      "         2.33168437e-01,  9.04711482e-03,  1.73057962e-01,\n",
      "        -1.61009127e-01,  0.00000000e+00,  0.00000000e+00,\n",
      "        -1.45210934e-01,  1.88542552e-01,  1.47403594e-01,\n",
      "         1.25744567e-02,  1.84427859e-01, -1.36714836e-01,\n",
      "         0.00000000e+00,  0.00000000e+00, -1.22089631e-01,\n",
      "         5.55135164e-02,  2.18862706e-01,  1.46403053e-01,\n",
      "         1.60635801e-01, -1.31809604e-01,  0.00000000e+00,\n",
      "         0.00000000e+00, -3.54959163e-02, -1.70452310e-01,\n",
      "         2.10338364e-01,  2.26921332e-01, -4.46079240e-02,\n",
      "        -1.03531103e-01,  0.00000000e+00,  0.00000000e+00,\n",
      "        -4.82756803e-04, -1.53923733e-01, -1.56066483e-01,\n",
      "        -8.09886534e-02, -1.11739647e-01, -1.97488372e-02,\n",
      "         0.00000000e+00],\n",
      "       [-4.07732298e-17,  9.88670950e-04, -1.28267022e-01,\n",
      "         6.30496613e-03, -1.56374583e-01, -2.28701342e-01,\n",
      "        -5.38391736e-03,  0.00000000e+00,  0.00000000e+00,\n",
      "         1.58687022e-02, -8.40462484e-02,  6.51278696e-02,\n",
      "         1.87741547e-01, -2.39862967e-01, -1.14423683e-01,\n",
      "         0.00000000e+00,  0.00000000e+00,  5.86740851e-02,\n",
      "        -2.71540520e-02,  2.22956408e-02,  1.03161480e-01,\n",
      "         1.45054922e-01, -1.88869441e-01,  0.00000000e+00,\n",
      "         0.00000000e+00,  3.92486356e-03, -1.55017603e-02,\n",
      "         3.70535392e-02,  5.86785619e-03,  1.97763347e-02,\n",
      "        -2.34183488e-02,  0.00000000e+00,  0.00000000e+00,\n",
      "        -2.83507851e-02,  3.42529650e-02,  2.42390398e-02,\n",
      "        -4.26586007e-03, -2.07787200e-01,  1.65188131e-01,\n",
      "         0.00000000e+00,  0.00000000e+00, -7.67990464e-02,\n",
      "         6.92764028e-02,  3.14887335e-02, -1.58746910e-01,\n",
      "        -2.83400492e-01,  3.46282473e-01,  0.00000000e+00,\n",
      "         0.00000000e+00, -4.83447352e-02, -9.84555148e-02,\n",
      "         1.10703655e-01, -2.22948962e-01,  1.96059030e-01,\n",
      "         2.80187996e-01,  0.00000000e+00,  0.00000000e+00,\n",
      "        -1.73495811e-03, -1.41188823e-01, -8.78026778e-02,\n",
      "         1.92842454e-01,  3.82370540e-01,  5.01381272e-02,\n",
      "         0.00000000e+00]]), 1: array([[ 7.71262627e-18,  2.21817902e-04,  4.36745067e-02,\n",
      "         1.63783852e-01,  1.86132823e-01,  1.05688328e-01,\n",
      "         1.69913094e-02,  0.00000000e+00,  0.00000000e+00,\n",
      "         1.61754571e-03,  7.29938985e-02,  2.25149885e-01,\n",
      "         2.45591659e-01,  1.49071923e-01,  2.08187220e-02,\n",
      "         0.00000000e+00,  1.47779972e-04,  1.76651448e-02,\n",
      "         1.24204100e-01,  2.58779829e-01,  2.48966310e-01,\n",
      "         1.29889935e-01,  1.13836024e-02,  0.00000000e+00,\n",
      "         7.38899858e-05,  3.62691102e-02,  1.60312700e-01,\n",
      "         2.51182209e-01,  2.44625698e-01,  1.08273769e-01,\n",
      "         5.58324564e-03,  0.00000000e+00,  0.00000000e+00,\n",
      "         2.05987722e-02,  1.24592022e-01,  2.12630399e-01,\n",
      "         2.41195875e-01,  9.45231791e-02,  5.53547095e-03,\n",
      "         0.00000000e+00,  0.00000000e+00,  8.31529991e-03,\n",
      "         9.73887367e-02,  1.87113443e-01,  2.36003348e-01,\n",
      "         9.94465823e-02,  5.37328330e-03,  0.00000000e+00,\n",
      "         0.00000000e+00,  2.30409251e-03,  8.76433847e-02,\n",
      "         1.96791501e-01,  2.38348686e-01,  1.29879464e-01,\n",
      "         3.26785554e-02,  1.02433046e-02,  0.00000000e+00,\n",
      "         1.21922325e-04,  4.01370111e-02,  1.61674443e-01,\n",
      "         2.27077088e-01,  1.44503314e-01,  4.80284351e-02,\n",
      "         2.29316544e-02],\n",
      "       [ 3.98485544e-18,  6.00576885e-04,  7.79835383e-02,\n",
      "         2.64827549e-01, -2.70912364e-02, -2.61035933e-01,\n",
      "        -6.59975334e-02,  0.00000000e+00,  0.00000000e+00,\n",
      "         2.18532236e-03,  9.63549532e-02,  1.65807026e-01,\n",
      "        -6.61407730e-02, -2.66281863e-01, -7.60428052e-02,\n",
      "         0.00000000e+00,  6.24584732e-04, -3.26948640e-02,\n",
      "        -4.05805643e-02,  1.42406290e-02, -6.39413886e-02,\n",
      "        -2.63640639e-01, -5.35460587e-02,  2.18952885e-46,\n",
      "         3.12292366e-04, -7.58041153e-02, -9.47069731e-02,\n",
      "         6.93162696e-02, -2.27020869e-02, -2.80613492e-01,\n",
      "        -3.38629435e-02,  0.00000000e+00,  0.00000000e+00,\n",
      "        -2.39965177e-02,  3.94586230e-02,  2.05736783e-01,\n",
      "        -1.78315764e-02, -2.83943000e-01, -3.52682185e-02,\n",
      "         0.00000000e+00,  0.00000000e+00,  1.32865060e-03,\n",
      "         1.31829051e-01,  2.36632464e-01, -2.46537970e-02,\n",
      "        -2.77828955e-01, -3.24386507e-02,  0.00000000e+00,\n",
      "         0.00000000e+00,  2.10872327e-03,  1.47551889e-01,\n",
      "         2.65202263e-01, -2.14493132e-02, -2.56115563e-01,\n",
      "        -2.46629509e-02,  1.46927264e-02,  0.00000000e+00,\n",
      "         4.03876356e-05,  7.37357091e-02,  2.56713981e-01,\n",
      "         3.46415205e-02, -2.05243105e-01, -6.08184271e-03,\n",
      "         2.90625454e-02],\n",
      "       [-4.87313750e-18, -2.89755997e-04,  1.34764206e-01,\n",
      "         7.83932142e-02, -2.25218197e-01, -1.13638490e-01,\n",
      "        -1.52098546e-02,  0.00000000e+00,  0.00000000e+00,\n",
      "         1.23312515e-03,  9.09685215e-02,  1.08316872e-01,\n",
      "        -2.26715133e-01, -2.10557095e-01, -3.00540709e-02,\n",
      "         0.00000000e+00, -1.04450008e-04,  1.89707009e-02,\n",
      "         8.25358217e-02,  9.03185049e-02, -1.64889518e-01,\n",
      "        -1.71522515e-01, -8.17164289e-03,  3.94605648e-42,\n",
      "        -5.22250039e-05, -3.56973200e-03,  1.46839976e-02,\n",
      "         4.67888725e-02, -7.02192543e-02, -9.46988602e-02,\n",
      "         1.00660340e-03,  0.00000000e+00,  0.00000000e+00,\n",
      "        -3.01411925e-02, -1.48722678e-01, -6.41840741e-02,\n",
      "         3.48804188e-02,  9.82449188e-03,  3.37752650e-03,\n",
      "         0.00000000e+00,  0.00000000e+00, -2.49058305e-02,\n",
      "        -2.17031573e-01, -2.11417979e-01,  5.86533720e-02,\n",
      "         1.22561371e-01,  8.91996599e-03,  0.00000000e+00,\n",
      "         0.00000000e+00, -6.57716879e-03, -1.28124669e-02,\n",
      "        -4.23522429e-02,  8.60137090e-02,  3.12207189e-01,\n",
      "         2.42104348e-01,  1.05981555e-01,  0.00000000e+00,\n",
      "        -1.99720857e-04,  9.61216660e-02,  1.45068827e-01,\n",
      "         1.35883402e-01,  3.43521112e-01,  3.92906457e-01,\n",
      "         2.63767051e-01]]), 2: array([[ 5.95616026e-18,  1.71773124e-02,  1.75139078e-01,\n",
      "         2.53496899e-01,  1.69276178e-01,  3.97631229e-02,\n",
      "         1.55281565e-03, -2.58493941e-26,  2.11319974e-04,\n",
      "         9.68143306e-02,  2.47271434e-01,  2.14565525e-01,\n",
      "         2.23584600e-01,  9.38612459e-02,  6.27767728e-03,\n",
      "         0.00000000e+00,  8.56685756e-05,  8.28733076e-02,\n",
      "         1.40907261e-01,  8.00541746e-02,  2.09501552e-01,\n",
      "         1.01666002e-01,  6.99505924e-03,  0.00000000e+00,\n",
      "         0.00000000e+00,  1.53569655e-02,  3.02711868e-02,\n",
      "         8.58063615e-02,  2.17339524e-01,  7.50449062e-02,\n",
      "         3.66727925e-03,  0.00000000e+00,  0.00000000e+00,\n",
      "         9.81280458e-04,  2.14365467e-02,  1.57687485e-01,\n",
      "         1.86082256e-01,  3.79984636e-02,  9.61376084e-04,\n",
      "         0.00000000e+00,  0.00000000e+00,  9.15787845e-03,\n",
      "         9.38670747e-02,  2.11584024e-01,  1.27729311e-01,\n",
      "         3.60415543e-02,  1.75391745e-02,  3.11314427e-04,\n",
      "         2.60208436e-04,  2.49761941e-02,  1.99977747e-01,\n",
      "         2.52880568e-01,  2.12468774e-01,  1.89982771e-01,\n",
      "         1.29503104e-01,  1.26653669e-02,  8.67361452e-05,\n",
      "         1.71863051e-02,  1.83028623e-01,  2.48842936e-01,\n",
      "         2.32838323e-01,  2.08217809e-01,  1.42170930e-01,\n",
      "         3.35151612e-02],\n",
      "       [-1.94652115e-17,  5.11020472e-02,  1.72766747e-01,\n",
      "         7.84312091e-03, -2.02023774e-01, -1.35575241e-01,\n",
      "        -9.20048706e-03,  0.00000000e+00, -7.76458906e-06,\n",
      "         1.32043362e-01,  5.34296810e-02,  2.24283140e-02,\n",
      "        -3.48532139e-02, -2.79396362e-01, -3.89115244e-02,\n",
      "         0.00000000e+00, -2.26518817e-04,  8.09943090e-02,\n",
      "        -5.96566581e-02,  1.10688908e-01,  1.36828452e-01,\n",
      "        -3.24009587e-01, -4.97036611e-02,  0.00000000e+00,\n",
      "        -5.60519386e-45, -1.04157474e-03, -7.53792369e-03,\n",
      "         2.60714609e-01,  4.01505706e-02, -3.24799728e-01,\n",
      "        -2.92049044e-02,  0.00000000e+00,  0.00000000e+00,\n",
      "        -4.03404987e-03,  6.70941332e-02,  3.13425562e-01,\n",
      "        -2.05233980e-01, -2.16991678e-01, -7.53088653e-03,\n",
      "         0.00000000e+00,  0.00000000e+00, -6.08274304e-03,\n",
      "         1.60306217e-01,  1.14575336e-01, -3.14300357e-01,\n",
      "        -7.24325143e-02,  1.95911967e-02,  6.40997940e-05,\n",
      "        -1.16145751e-03,  5.42089796e-02,  1.81591059e-01,\n",
      "        -7.91242051e-02, -1.30290796e-01,  1.13644996e-02,\n",
      "        -1.95090227e-02, -4.09355660e-02, -3.87152503e-04,\n",
      "         5.23616383e-02,  1.86469143e-01,  2.88887439e-02,\n",
      "         1.56729660e-02, -3.40433023e-02, -1.65745844e-01,\n",
      "        -1.35000282e-01],\n",
      "       [ 7.70436529e-17, -9.07340244e-03, -1.18860084e-01,\n",
      "        -7.79855208e-02,  2.89905233e-01,  2.53827552e-01,\n",
      "         2.02858712e-02,  0.00000000e+00,  1.25704306e-03,\n",
      "        -8.60092966e-02, -1.43806030e-01, -8.34967132e-05,\n",
      "         6.73941125e-02,  3.44037941e-01,  6.84854554e-02,\n",
      "         0.00000000e+00, -3.47177759e-04, -1.40344086e-01,\n",
      "        -1.86942638e-01,  2.40295659e-02, -9.63119347e-02,\n",
      "         2.65234730e-01,  6.33630978e-02,  0.00000000e+00,\n",
      "         0.00000000e+00, -3.88477013e-02, -7.85015402e-02,\n",
      "         7.83805558e-02, -1.95758154e-02,  1.07248688e-01,\n",
      "         2.46026905e-02,  0.00000000e+00,  0.00000000e+00,\n",
      "         6.28566140e-03,  9.26102770e-02,  2.53301027e-01,\n",
      "        -7.60850108e-02, -1.09387743e-02,  2.65556800e-03,\n",
      "         0.00000000e+00,  0.00000000e+00,  9.13290092e-02,\n",
      "         3.97519126e-01,  1.57806287e-01, -2.56832597e-01,\n",
      "        -5.15169357e-02, -7.98377094e-03,  1.14942419e-04,\n",
      "         3.20836545e-03,  9.67639083e-02,  1.72355861e-01,\n",
      "        -4.09615483e-02, -8.69876483e-02, -8.01538577e-02,\n",
      "        -2.25334914e-01, -4.53112204e-02,  1.06945515e-03,\n",
      "        -2.65094608e-03, -8.68251621e-02, -6.78479375e-02,\n",
      "         8.78282210e-02,  5.38146959e-02, -1.62561164e-01,\n",
      "        -1.20739654e-01]]), 3: array([[ 6.04287068e-18,  1.17137797e-02,  1.51421605e-01,\n",
      "         2.53878696e-01,  2.54175149e-01,  1.34132869e-01,\n",
      "         1.33638811e-02,  7.80471490e-05,  2.13413676e-04,\n",
      "         7.67097531e-02,  2.26995036e-01,  1.61599265e-01,\n",
      "         2.03567031e-01,  2.14691809e-01,  3.69244314e-02,\n",
      "         2.81153549e-04,  1.08523340e-04,  3.96446521e-02,\n",
      "         6.61356700e-02,  5.61579455e-02,  2.16970525e-01,\n",
      "         1.66836313e-01,  1.40989159e-02,  0.00000000e+00,\n",
      "         0.00000000e+00,  4.65553328e-03,  2.54009203e-02,\n",
      "         1.61244139e-01,  2.55495707e-01,  1.01190094e-01,\n",
      "         1.45811292e-03,  0.00000000e+00,  0.00000000e+00,\n",
      "         1.08465804e-03,  1.81708469e-02,  1.00532065e-01,\n",
      "         2.15885542e-01,  2.03646345e-01,  4.08020581e-02,\n",
      "         0.00000000e+00,  0.00000000e+00,  7.57462003e-03,\n",
      "         2.46803826e-02,  1.65512923e-02,  7.77841980e-02,\n",
      "         2.18887812e-01,  1.14448398e-01,  0.00000000e+00,\n",
      "         0.00000000e+00,  1.56335155e-02,  1.27233041e-01,\n",
      "         1.12118487e-01,  1.49001260e-01,  2.35716818e-01,\n",
      "         1.06360641e-01,  1.07453647e-03,  0.00000000e+00,\n",
      "         8.97828057e-03,  1.68164122e-01,  2.62411723e-01,\n",
      "         2.50597112e-01,  1.55020233e-01,  2.39730890e-02,\n",
      "         9.83652667e-04],\n",
      "       [ 3.13520081e-17, -2.96306965e-02, -1.11562272e-01,\n",
      "        -4.48872319e-02, -7.32708043e-02, -2.32902257e-01,\n",
      "        -8.76987679e-02, -1.16019692e-03,  5.72025431e-04,\n",
      "         6.09997145e-02,  8.02298352e-02,  1.51183367e-02,\n",
      "         4.61804323e-02, -2.16124780e-01, -1.87063775e-01,\n",
      "        -1.94853541e-03,  3.44426392e-04,  1.10721838e-01,\n",
      "         1.55681339e-01,  4.07694995e-02,  5.36367052e-02,\n",
      "        -2.35307538e-01, -7.38796537e-02,  0.00000000e+00,\n",
      "         0.00000000e+00,  2.04343865e-02,  2.79502094e-02,\n",
      "         5.04665115e-02,  3.89377157e-02,  2.20695183e-02,\n",
      "         2.13583942e-03,  0.00000000e+00,  0.00000000e+00,\n",
      "         4.79199057e-03, -4.52150985e-02, -1.43952566e-01,\n",
      "        -1.27728086e-01,  2.84324379e-01,  1.17974129e-01,\n",
      "         0.00000000e+00,  0.00000000e+00,  3.51154532e-02,\n",
      "         7.39761787e-02, -1.21104308e-01, -3.89881367e-01,\n",
      "        -3.15864375e-04,  2.87273869e-01,  0.00000000e+00,\n",
      "         0.00000000e+00,  3.24361528e-02,  2.29557535e-01,\n",
      "         2.66770336e-02, -2.70315405e-01,  2.60593849e-02,\n",
      "         2.79858371e-01,  6.27003996e-03,  0.00000000e+00,\n",
      "        -3.21137539e-02, -1.52749268e-01, -3.59158750e-02,\n",
      "         1.21736829e-01,  2.61046221e-01,  1.02494573e-01,\n",
      "         7.24157482e-03],\n",
      "       [-5.22050367e-17, -1.52357270e-02, -1.12875530e-01,\n",
      "        -6.10119555e-02,  9.89796294e-02,  2.65767107e-01,\n",
      "         3.52780058e-02, -3.70448938e-04,  3.29945187e-04,\n",
      "        -2.85722019e-02, -2.70951991e-02,  1.26029298e-02,\n",
      "        -2.37732575e-01,  3.04126404e-01,  1.35691962e-01,\n",
      "         8.27497376e-04,  6.99426877e-04,  7.97203446e-02,\n",
      "         5.09384618e-02, -2.21362051e-01, -1.91289463e-01,\n",
      "         3.76680301e-01,  7.01637224e-02,  0.00000000e+00,\n",
      "         0.00000000e+00,  1.48519819e-02, -1.23862021e-01,\n",
      "        -3.98278653e-01,  1.41716439e-01,  2.56012891e-01,\n",
      "         8.92178673e-03,  0.00000000e+00,  0.00000000e+00,\n",
      "         8.56469065e-03, -9.78262562e-02, -3.34506759e-01,\n",
      "        -6.57245278e-02,  6.81974653e-02,  2.90215632e-02,\n",
      "         0.00000000e+00,  0.00000000e+00, -8.34105454e-03,\n",
      "         4.93519468e-03, -6.28610551e-02, -8.52953025e-02,\n",
      "        -4.10692404e-02,  7.35635924e-02,  0.00000000e+00,\n",
      "         0.00000000e+00, -3.88479424e-02,  2.17668070e-03,\n",
      "         5.29892687e-02, -7.56605920e-02, -7.93229385e-02,\n",
      "         1.11475037e-01,  6.75916291e-03,  0.00000000e+00,\n",
      "        -8.52146281e-03, -1.22971818e-01, -5.49656838e-02,\n",
      "         4.18161582e-02,  1.40565697e-01,  1.13470112e-01,\n",
      "         8.41461965e-03]]), 4: array([[ 5.57291878e-18, -2.22044605e-16,  6.96289550e-03,\n",
      "         1.25699125e-01,  2.06301346e-01,  3.58239911e-02,\n",
      "         3.50717475e-03,  2.11296718e-03,  0.00000000e+00,\n",
      "         8.09805466e-04,  6.01247111e-02,  2.37582014e-01,\n",
      "         1.51280295e-01,  3.49011621e-02,  1.97480695e-02,\n",
      "         5.16923198e-03,  0.00000000e+00,  1.22949479e-02,\n",
      "         1.86681381e-01,  2.04519021e-01,  8.60026805e-02,\n",
      "         1.02486062e-01,  6.83135251e-02,  5.88187647e-03,\n",
      "         9.99714226e-05,  8.35555575e-02,  2.58188832e-01,\n",
      "         1.11452795e-01,  1.30323589e-01,  1.90327452e-01,\n",
      "         1.09486882e-01,  3.82788300e-04,  0.00000000e+00,\n",
      "         1.55413353e-01,  2.60165058e-01,  1.72580018e-01,\n",
      "         2.32132651e-01,  2.49916475e-01,  9.54648936e-02,\n",
      "         0.00000000e+00,  1.62451966e-03,  1.13410516e-01,\n",
      "         2.02536467e-01,  2.21737902e-01,  2.61188170e-01,\n",
      "         1.86085489e-01,  2.85356566e-02,  0.00000000e+00,\n",
      "         9.73996000e-04,  1.88335363e-02,  5.04558859e-02,\n",
      "         1.38072815e-01,  2.41246481e-01,  7.33781127e-02,\n",
      "         3.90349367e-04,  0.00000000e+00,  0.00000000e+00,\n",
      "         3.68014465e-04,  8.47091282e-03,  1.39375475e-01,\n",
      "         2.12112838e-01,  3.44080250e-02,  0.00000000e+00,\n",
      "         0.00000000e+00],\n",
      "       [-3.36234611e-17,  3.33066907e-16,  4.99922713e-02,\n",
      "         3.01734459e-01, -1.77660111e-01, -1.13998891e-01,\n",
      "         1.58136456e-02,  1.11322916e-02,  0.00000000e+00,\n",
      "         7.32259286e-03,  2.36447806e-01,  1.08348318e-01,\n",
      "        -2.88447430e-01,  4.76694100e-02,  4.18179204e-02,\n",
      "         3.31081953e-03,  0.00000000e+00,  5.71289085e-02,\n",
      "         2.84324521e-01, -2.06054488e-01, -5.52098185e-02,\n",
      "         1.78783525e-01,  2.65000768e-02,  3.01199035e-03,\n",
      "         3.43148509e-04,  1.43220964e-01,  6.56226722e-02,\n",
      "        -1.16320824e-01,  1.89315694e-01,  9.81724741e-02,\n",
      "        -1.74735078e-02,  1.54974387e-04,  0.00000000e+00,\n",
      "         1.21383129e-03, -3.05280724e-02,  1.29862948e-01,\n",
      "         1.58911376e-01, -4.53883652e-02, -6.38489205e-02,\n",
      "         0.00000000e+00, -4.79678933e-03, -1.46105591e-01,\n",
      "        -1.31794770e-01,  1.26652201e-02, -7.67137317e-04,\n",
      "        -2.65499177e-01, -6.88112765e-02,  0.00000000e+00,\n",
      "        -4.37696819e-03, -4.92426052e-02, -7.60344040e-02,\n",
      "         1.97282714e-01, -9.95246748e-02, -2.47697287e-01,\n",
      "        -1.61801477e-03,  0.00000000e+00,  0.00000000e+00,\n",
      "         1.94379101e-05,  5.68733065e-02,  3.31697023e-01,\n",
      "        -2.12582315e-01, -1.41428971e-01,  0.00000000e+00,\n",
      "         0.00000000e+00],\n",
      "       [ 1.05073375e-17,  1.66533454e-16, -1.85040652e-02,\n",
      "        -4.46834622e-02,  9.32084254e-02, -4.65561609e-03,\n",
      "         1.30625131e-02,  1.63092792e-02,  0.00000000e+00,\n",
      "        -1.57432912e-03, -7.70065405e-03,  1.37790829e-02,\n",
      "         1.20448207e-02, -7.95253301e-02,  1.09569598e-01,\n",
      "         5.22636640e-02,  0.00000000e+00,  1.96993968e-02,\n",
      "         2.03707256e-02,  1.82516232e-02, -1.97726666e-01,\n",
      "        -2.98014532e-02,  3.53739141e-01,  5.71330537e-02,\n",
      "         8.87151670e-05,  4.26403735e-02,  2.92457099e-02,\n",
      "         9.73525635e-02, -1.77060495e-01,  2.71899949e-01,\n",
      "         3.07990042e-01,  2.84458316e-03,  0.00000000e+00,\n",
      "        -8.26328172e-02,  9.04375857e-02,  2.66562568e-01,\n",
      "         3.34102052e-02,  1.14534157e-01, -5.45555950e-02,\n",
      "         0.00000000e+00, -5.46766318e-03, -3.15914963e-01,\n",
      "        -3.67839658e-01, -2.91369955e-01, -5.07304153e-02,\n",
      "        -2.97760940e-03, -6.62348201e-02,  0.00000000e+00,\n",
      "        -3.21921767e-03, -9.69139717e-02, -2.25540012e-01,\n",
      "        -2.58418637e-01,  5.60052818e-02,  1.09267471e-01,\n",
      "        -2.07778259e-03,  0.00000000e+00,  0.00000000e+00,\n",
      "        -3.62451410e-03, -3.00062561e-02, -3.88029518e-02,\n",
      "         9.58360024e-02,  3.50934043e-02,  0.00000000e+00,\n",
      "         0.00000000e+00]]), 5: array([[ 5.85215395e-18,  1.76884281e-02,  1.82717973e-01,\n",
      "         2.38357802e-01,  2.53513999e-01,  2.23300470e-01,\n",
      "         7.71678131e-02,  8.50694540e-04,  1.05717348e-04,\n",
      "         7.11761515e-02,  2.69537644e-01,  2.20386807e-01,\n",
      "         1.51379664e-01,  1.15427249e-01,  3.94044131e-02,\n",
      "         6.08048310e-04,  0.00000000e+00,  1.02285835e-01,\n",
      "         2.62210682e-01,  1.05144904e-01,  3.47381967e-02,\n",
      "         1.03268102e-02,  9.39558113e-04,  0.00000000e+00,\n",
      "         0.00000000e+00,  9.81746888e-02,  2.60739763e-01,\n",
      "         2.20316780e-01,  1.63756553e-01,  7.35806061e-02,\n",
      "         6.56477738e-03,  0.00000000e+00,  0.00000000e+00,\n",
      "         3.53429807e-02,  1.39490009e-01,  1.55156242e-01,\n",
      "         1.66000995e-01,  1.38951380e-01,  3.16400356e-02,\n",
      "         0.00000000e+00,  0.00000000e+00,  4.51793113e-03,\n",
      "         2.25954271e-02,  6.60844977e-02,  1.38807959e-01,\n",
      "         1.50687732e-01,  4.15755496e-02,  0.00000000e+00,\n",
      "         0.00000000e+00,  1.50270494e-02,  1.05200183e-01,\n",
      "         1.50383144e-01,  2.01681453e-01,  1.32801677e-01,\n",
      "         2.30325397e-02,  0.00000000e+00,  0.00000000e+00,\n",
      "         1.74574598e-02,  1.95301165e-01,  2.68270193e-01,\n",
      "         1.70037135e-01,  4.42783389e-02,  3.30734409e-03,\n",
      "         0.00000000e+00],\n",
      "       [-3.14136203e-17,  4.17342323e-02,  7.20498395e-02,\n",
      "         4.24168256e-02,  1.53583023e-02,  3.23039962e-02,\n",
      "         4.66681002e-02,  9.73903704e-04,  7.16563969e-05,\n",
      "         1.14816049e-01,  2.40053390e-02,  1.09959846e-01,\n",
      "         8.55242111e-02,  6.22932625e-02,  5.03793196e-02,\n",
      "         1.63677986e-03,  0.00000000e+00,  9.65132349e-02,\n",
      "         1.58000169e-02, -7.12261254e-04, -8.06778791e-02,\n",
      "        -2.79715949e-02, -1.04034979e-04, -1.12103877e-44,\n",
      "        -4.20389539e-45, -2.04387000e-02, -4.50774863e-02,\n",
      "        -4.10314056e-02, -2.67136305e-01, -2.59729472e-01,\n",
      "        -2.52421044e-02,  0.00000000e+00,  0.00000000e+00,\n",
      "        -8.71148736e-03,  3.03858445e-02,  2.28137086e-01,\n",
      "         9.25326620e-02, -3.66709623e-01, -1.27895172e-01,\n",
      "         0.00000000e+00,  0.00000000e+00,  1.71539673e-04,\n",
      "         2.05697013e-02,  2.75932989e-01,  2.97272119e-01,\n",
      "        -2.97952084e-01, -1.68407742e-01,  0.00000000e+00,\n",
      "         0.00000000e+00,  8.67449380e-03, -2.93289631e-02,\n",
      "         2.50317639e-01,  8.41184522e-02, -3.33587010e-01,\n",
      "        -1.00103867e-01,  0.00000000e+00,  0.00000000e+00,\n",
      "         4.27974663e-02,  9.65015103e-02, -2.75321680e-02,\n",
      "        -2.49682981e-01, -1.63562481e-01, -1.72472960e-02,\n",
      "         0.00000000e+00],\n",
      "       [ 5.65121608e-17,  2.50898049e-02,  1.43703079e-01,\n",
      "        -5.11558955e-02, -1.18040180e-01, -2.90264688e-02,\n",
      "         1.13776891e-01,  3.93431573e-03, -4.09317513e-04,\n",
      "         1.01940618e-02,  4.87666620e-02, -3.39147935e-02,\n",
      "         1.03673893e-01,  1.33772796e-01,  1.13363629e-01,\n",
      "         5.80804905e-03,  0.00000000e+00, -5.92950514e-02,\n",
      "         3.45026005e-02,  2.98722035e-01,  2.01413689e-01,\n",
      "         4.79247820e-02,  2.89452169e-03,  0.00000000e+00,\n",
      "         0.00000000e+00, -1.79152076e-01, -1.15319679e-01,\n",
      "         2.16994502e-01,  2.75904157e-01,  1.05370053e-01,\n",
      "        -9.60202802e-03,  0.00000000e+00,  0.00000000e+00,\n",
      "        -1.52747790e-01, -4.86442657e-01, -3.63748832e-01,\n",
      "        -1.10721649e-01, -7.15921911e-03, -3.37906804e-02,\n",
      "         0.00000000e+00,  0.00000000e+00, -5.35921332e-03,\n",
      "        -9.65638477e-02, -4.32370358e-02,  7.67840112e-02,\n",
      "        -9.88784071e-02, -6.18859291e-02,  0.00000000e+00,\n",
      "         0.00000000e+00,  5.10947749e-02,  2.37471866e-01,\n",
      "         1.28890044e-01,  3.03511430e-02, -1.60885721e-01,\n",
      "        -2.25199098e-02,  0.00000000e+00,  0.00000000e+00,\n",
      "         2.33269055e-02,  1.65328530e-01,  1.42343970e-03,\n",
      "        -1.29809904e-01, -4.92605060e-02,  7.60052063e-03,\n",
      "         0.00000000e+00]]), 6: array([[ 6.99743628e-18, -4.44089210e-16,  1.94316185e-02,\n",
      "         1.93288558e-01,  1.68073847e-01,  2.56885039e-02,\n",
      "         1.86885380e-04,  0.00000000e+00,  0.00000000e+00,\n",
      "         5.65233755e-04,  1.23021730e-01,  2.51112641e-01,\n",
      "         1.09330275e-01,  1.58490932e-02,  8.46785215e-04,\n",
      "         0.00000000e+00,  0.00000000e+00,  1.26477179e-02,\n",
      "         2.16600519e-01,  1.67091202e-01,  1.60660188e-02,\n",
      "         1.70442530e-03,  8.76416838e-05,  0.00000000e+00,\n",
      "         0.00000000e+00,  3.99424260e-02,  2.37500136e-01,\n",
      "         1.43069317e-01,  6.87972510e-02,  3.55096713e-02,\n",
      "         2.32524697e-03,  0.00000000e+00,  0.00000000e+00,\n",
      "         6.23041911e-02,  2.54786651e-01,  2.23742229e-01,\n",
      "         2.08102815e-01,  1.78698315e-01,  4.87531359e-02,\n",
      "         0.00000000e+00,  0.00000000e+00,  3.33967666e-02,\n",
      "         2.53180132e-01,  1.85217225e-01,  9.58029645e-02,\n",
      "         1.76659005e-01,  1.58260012e-01,  4.19698648e-03,\n",
      "         0.00000000e+00,  3.30090389e-03,  1.78837673e-01,\n",
      "         2.19697181e-01,  9.77566628e-02,  1.96329626e-01,\n",
      "         1.85666305e-01,  9.07755354e-03,  0.00000000e+00,\n",
      "         0.00000000e+00,  2.46668403e-02,  1.84663796e-01,\n",
      "         2.59738558e-01,  2.24968330e-01,  7.79720699e-02,\n",
      "         1.60341039e-03],\n",
      "       [ 3.52471270e-17,  2.77555756e-16, -9.11003092e-02,\n",
      "        -1.68834227e-01,  2.56207507e-01,  4.30684734e-02,\n",
      "         5.37692520e-04,  0.00000000e+00,  0.00000000e+00,\n",
      "        -2.24044738e-03, -2.93472278e-01,  5.40042902e-02,\n",
      "         3.32159677e-01,  3.41867359e-02,  2.41685903e-03,\n",
      "         0.00000000e+00,  0.00000000e+00, -4.61719086e-02,\n",
      "        -2.67265413e-01,  3.84119401e-01,  1.05228905e-01,\n",
      "         5.85298378e-03,  2.71603572e-04,  0.00000000e+00,\n",
      "         0.00000000e+00, -1.21759426e-01, -1.17044222e-01,\n",
      "         3.96319695e-01,  1.69517255e-01,  9.65302075e-02,\n",
      "         6.26711060e-03,  0.00000000e+00,  0.00000000e+00,\n",
      "        -1.38716558e-01, -7.62766798e-02,  1.07712249e-01,\n",
      "        -8.28155228e-02, -5.33923330e-02,  4.58586795e-02,\n",
      "         0.00000000e+00,  0.00000000e+00, -8.56833241e-02,\n",
      "        -1.26286570e-01,  1.42188535e-01,  2.52496352e-02,\n",
      "        -1.06138525e-02, -2.11084237e-02,  1.33279532e-02,\n",
      "         0.00000000e+00, -1.31423533e-02, -2.12089955e-01,\n",
      "         1.48630816e-01,  1.70415592e-01,  5.10220325e-02,\n",
      "        -3.28282751e-02,  2.08102932e-02,  0.00000000e+00,\n",
      "         0.00000000e+00, -9.05606625e-02, -1.68950497e-01,\n",
      "        -6.75413857e-02, -1.71876143e-03,  6.44824028e-02,\n",
      "         3.96590650e-03],\n",
      "       [ 7.63785043e-17, -4.44089210e-16,  1.10022941e-02,\n",
      "        -9.51802414e-03,  8.57813239e-02,  8.34563081e-02,\n",
      "         9.47394891e-04,  0.00000000e+00, -2.16840434e-19,\n",
      "         2.44301590e-03,  6.42778872e-02,  7.00619649e-03,\n",
      "         6.25123504e-02,  4.80303519e-02,  3.47476840e-03,\n",
      "         0.00000000e+00,  0.00000000e+00,  2.17397649e-02,\n",
      "         6.57073568e-02,  4.79735360e-02,  1.11209572e-04,\n",
      "         6.22314019e-03,  1.26220606e-03,  0.00000000e+00,\n",
      "         0.00000000e+00,  4.68314389e-02,  4.18248410e-02,\n",
      "        -5.76651922e-02, -3.03096178e-01, -1.93601785e-01,\n",
      "        -1.38528536e-02,  0.00000000e+00,  0.00000000e+00,\n",
      "         4.29425020e-02,  2.11817604e-02, -1.03375338e-01,\n",
      "        -1.53655697e-01, -4.45316021e-01, -2.47373962e-01,\n",
      "         0.00000000e+00,  0.00000000e+00,  5.05470273e-02,\n",
      "         2.39566305e-02,  1.65373818e-01,  4.76034042e-01,\n",
      "         3.03369663e-01, -3.34026485e-01, -3.00936102e-02,\n",
      "         0.00000000e+00,  1.17331739e-02,  6.01793844e-02,\n",
      "         7.99148775e-02,  1.64549669e-01,  1.06634343e-01,\n",
      "        -1.46460042e-01, -2.48032300e-02,  0.00000000e+00,\n",
      "         0.00000000e+00,  1.79020443e-02, -6.97046001e-03,\n",
      "        -8.69303162e-03, -4.26405815e-02, -2.21301957e-02,\n",
      "         3.29544983e-03]]), 7: array([[ 6.23060976e-18,  2.88692353e-03,  9.20319454e-02,\n",
      "         2.36792683e-01,  2.59064530e-01,  2.01104346e-01,\n",
      "         9.26879031e-02,  1.68632551e-02,  0.00000000e+00,\n",
      "         1.94856633e-02,  1.91518847e-01,  2.12043077e-01,\n",
      "         2.02104490e-01,  2.27830337e-01,  9.55729537e-02,\n",
      "         9.76661481e-03,  0.00000000e+00,  1.48914509e-02,\n",
      "         8.68432079e-02,  3.96102411e-02,  1.28697676e-01,\n",
      "         2.07173435e-01,  5.51796071e-02,  1.84203001e-03,\n",
      "         0.00000000e+00,  1.10570441e-02,  7.65615487e-02,\n",
      "         1.12687805e-01,  2.21110934e-01,  2.23572582e-01,\n",
      "         9.14390276e-02,  0.00000000e+00,  0.00000000e+00,\n",
      "         2.73107566e-02,  1.66688972e-01,  2.45666515e-01,\n",
      "         2.68470651e-01,  2.07081546e-01,  8.13598467e-02,\n",
      "         0.00000000e+00,  0.00000000e+00,  2.09649387e-02,\n",
      "         1.00858598e-01,  2.14701432e-01,  1.98123541e-01,\n",
      "         7.14341061e-02,  1.16117882e-02,  0.00000000e+00,\n",
      "         0.00000000e+00,  1.79149144e-03,  5.55929039e-02,\n",
      "         2.25562940e-01,  1.06648596e-01,  3.23050560e-03,\n",
      "         0.00000000e+00,  0.00000000e+00,  0.00000000e+00,\n",
      "         2.12107241e-03,  1.15579681e-01,  2.12813795e-01,\n",
      "         3.95049619e-02,  1.84470444e-04,  0.00000000e+00,\n",
      "         0.00000000e+00],\n",
      "       [-7.95780531e-18, -1.78893069e-02, -1.93794972e-01,\n",
      "        -1.17355999e-01,  3.89306903e-03,  2.41241282e-01,\n",
      "         2.63943789e-01,  7.22460981e-02,  0.00000000e+00,\n",
      "        -6.89777895e-02, -7.68468492e-02,  8.75513027e-02,\n",
      "        -9.62374842e-02,  1.16462335e-01,  3.06658436e-01,\n",
      "         5.59200221e-02,  0.00000000e+00, -1.86923859e-02,\n",
      "         1.49827597e-01,  2.65418558e-02, -3.35229985e-01,\n",
      "         9.65882225e-02,  1.87235781e-01,  1.06666023e-02,\n",
      "         0.00000000e+00,  2.12741740e-03,  1.50973498e-02,\n",
      "        -2.03267175e-01, -2.23937535e-01,  6.83555890e-02,\n",
      "        -4.31228608e-02,  0.00000000e+00,  0.00000000e+00,\n",
      "        -4.63118725e-02, -1.60021774e-01, -1.36109005e-01,\n",
      "         1.29353745e-02,  1.32035012e-01,  2.25816387e-02,\n",
      "         0.00000000e+00,  0.00000000e+00, -2.46637822e-02,\n",
      "        -8.39487053e-02, -1.65083688e-01,  2.25754317e-01,\n",
      "         1.49458869e-01,  1.19937830e-02,  0.00000000e+00,\n",
      "         0.00000000e+00, -8.11417834e-03, -1.99412353e-01,\n",
      "        -7.50155160e-02,  2.64991984e-01,  1.23618185e-02,\n",
      "         0.00000000e+00,  0.00000000e+00,  0.00000000e+00,\n",
      "        -1.34148690e-02, -2.60788008e-01,  1.50306835e-01,\n",
      "         1.37703849e-01,  9.59773321e-04,  0.00000000e+00,\n",
      "         0.00000000e+00],\n",
      "       [-5.96150151e-17, -7.67511078e-03, -5.67947950e-02,\n",
      "         4.55138289e-02, -2.23285912e-02, -1.40458857e-01,\n",
      "        -1.24261450e-01, -6.11440498e-02, -6.93889390e-18,\n",
      "        -7.48701036e-03,  1.03103055e-01,  4.06052790e-02,\n",
      "         5.40853669e-02, -1.82984842e-02, -1.87167156e-01,\n",
      "        -5.48516419e-02,  0.00000000e+00,  5.94386740e-02,\n",
      "         2.28548367e-01,  5.07650106e-03,  1.06695229e-01,\n",
      "        -2.71957851e-02, -2.03260825e-01, -1.46941486e-02,\n",
      "         0.00000000e+00, -3.09665347e-03, -2.18042513e-01,\n",
      "        -3.61370398e-01, -4.00401488e-02, -3.13286921e-01,\n",
      "        -4.16009535e-01,  0.00000000e+00,  0.00000000e+00,\n",
      "        -1.70661208e-02, -1.67761820e-01, -9.92274852e-03,\n",
      "         6.68193199e-02,  2.37951268e-01,  1.68924971e-01,\n",
      "         0.00000000e+00,  0.00000000e+00,  8.74856662e-02,\n",
      "         2.63349905e-01,  2.02281717e-01,  1.30769678e-01,\n",
      "         2.54202871e-01,  7.36175916e-02,  0.00000000e+00,\n",
      "         0.00000000e+00,  1.16876632e-03, -7.09076735e-02,\n",
      "         5.58741462e-02, -1.58935651e-02, -3.53031980e-03,\n",
      "         0.00000000e+00,  0.00000000e+00,  0.00000000e+00,\n",
      "        -4.03020116e-03, -6.07706230e-02,  7.21128743e-02,\n",
      "        -2.55288311e-02, -1.03550190e-03,  0.00000000e+00,\n",
      "         0.00000000e+00]]), 8: array([[ 7.60528801e-18,  2.37311380e-03,  8.68720618e-02,\n",
      "         2.03289340e-01,  2.15580388e-01,  1.06465641e-01,\n",
      "         8.83371176e-03,  0.00000000e+00,  5.04298599e-04,\n",
      "         3.42976663e-02,  2.15548302e-01,  2.00426713e-01,\n",
      "         1.63749514e-01,  2.02431660e-01,  4.29971878e-02,\n",
      "         0.00000000e+00,  1.01399178e-04,  5.17386455e-02,\n",
      "         2.02921426e-01,  1.29530930e-01,  1.37740284e-01,\n",
      "         2.04570326e-01,  3.74140237e-02,  0.00000000e+00,\n",
      "         0.00000000e+00,  2.04198548e-02,  1.49253777e-01,\n",
      "         2.29874733e-01,  2.32969667e-01,  1.22505719e-01,\n",
      "         8.65752915e-03,  0.00000000e+00,  0.00000000e+00,\n",
      "         7.24357186e-03,  1.21512464e-01,  2.44030000e-01,\n",
      "         2.25305529e-01,  7.62282684e-02,  1.80255532e-03,\n",
      "         0.00000000e+00,  0.00000000e+00,  1.96444186e-02,\n",
      "         1.87019674e-01,  1.48575650e-01,  1.59426112e-01,\n",
      "         1.49858870e-01,  2.26190403e-02,  0.00000000e+00,\n",
      "         0.00000000e+00,  1.74094515e-02,  1.92233700e-01,\n",
      "         1.41379639e-01,  1.46732844e-01,  1.68510485e-01,\n",
      "         4.02826969e-02,  9.18652645e-05,  0.00000000e+00,\n",
      "         2.43667740e-03,  8.67556052e-02,  2.21754979e-01,\n",
      "         2.27211522e-01,  1.17194808e-01,  2.01721131e-02,\n",
      "         1.60994446e-04],\n",
      "       [ 7.76947799e-18, -1.09856570e-02, -1.86610453e-01,\n",
      "        -8.02581217e-02,  7.32801689e-02,  6.46268212e-02,\n",
      "         1.29433474e-02,  0.00000000e+00, -7.28073381e-04,\n",
      "        -1.85842471e-02, -3.80597425e-02, -7.44956066e-03,\n",
      "        -6.32407136e-03,  4.22696444e-02,  3.53515276e-02,\n",
      "         1.29246971e-26,  3.89986390e-05,  8.72956671e-02,\n",
      "         6.34377460e-02, -1.82252390e-01, -2.69995234e-01,\n",
      "         2.04394760e-02,  6.76243663e-02,  0.00000000e+00,\n",
      "         0.00000000e+00,  4.32524523e-02,  1.28703684e-01,\n",
      "        -7.33659637e-02, -7.36707758e-03,  1.85181591e-01,\n",
      "         1.33545122e-02,  0.00000000e+00,  0.00000000e+00,\n",
      "        -2.07241615e-02, -1.66208961e-01, -8.46619656e-02,\n",
      "         1.71774923e-01,  2.63668408e-01,  1.08418322e-02,\n",
      "         0.00000000e+00,  0.00000000e+00, -3.66582714e-02,\n",
      "        -2.11059629e-01,  2.23384528e-02, -1.81941049e-01,\n",
      "         3.53512214e-01,  1.08826305e-01,  0.00000000e+00,\n",
      "         0.00000000e+00, -4.80415982e-02, -2.13028424e-01,\n",
      "         1.29230555e-01, -2.63288370e-01,  2.92056550e-01,\n",
      "         1.59461126e-01,  1.57301135e-04,  0.00000000e+00,\n",
      "        -1.05912859e-02, -2.18715649e-01, -1.04422496e-01,\n",
      "         1.25378337e-01,  2.97422697e-01,  6.88513892e-02,\n",
      "         3.70133080e-04],\n",
      "       [-6.35957818e-17, -2.08507353e-03, -2.46967138e-02,\n",
      "         7.14451365e-02,  1.16535631e-01,  1.39832945e-01,\n",
      "         2.04174687e-02,  0.00000000e+00,  2.77293304e-03,\n",
      "         8.74093684e-02,  1.83718782e-01, -9.62962329e-02,\n",
      "        -3.46702796e-02,  1.07518670e-01,  7.07151071e-02,\n",
      "         0.00000000e+00,  5.68277592e-04,  1.98214795e-01,\n",
      "         2.71172899e-01, -3.45082060e-01, -9.77992900e-02,\n",
      "        -8.19448389e-03,  2.05064867e-02,  0.00000000e+00,\n",
      "         0.00000000e+00,  1.02405558e-01,  4.03894915e-01,\n",
      "        -1.12864921e-01, -1.22405585e-01, -3.21879024e-02,\n",
      "        -3.72137724e-03,  0.00000000e+00,  0.00000000e+00,\n",
      "         5.90704354e-03, -6.31523784e-02, -4.93862841e-04,\n",
      "        -1.45624729e-01, -6.34075356e-02,  2.54367606e-03,\n",
      "         0.00000000e+00,  0.00000000e+00, -6.08591495e-02,\n",
      "        -2.80408856e-01,  2.97689576e-01,  1.15759678e-01,\n",
      "        -2.20463148e-01, -2.53091671e-03,  0.00000000e+00,\n",
      "         0.00000000e+00, -5.41315748e-02, -1.52960394e-01,\n",
      "         1.10262959e-01,  1.82688559e-01, -2.08847046e-01,\n",
      "        -8.04942234e-02,  1.39199509e-04,  0.00000000e+00,\n",
      "        -8.37262141e-03, -4.44076798e-02,  9.08864588e-02,\n",
      "        -2.72265381e-03, -1.90508249e-01, -1.31001585e-01,\n",
      "        -2.33337922e-03]]), 9: array([[ 6.75945492e-18,  2.60806131e-03,  1.05668670e-01,\n",
      "         2.18215809e-01,  2.04617946e-01,  1.04049971e-01,\n",
      "         2.48778764e-02,  2.06271884e-03,  0.00000000e+00,\n",
      "         4.50776460e-02,  2.33380132e-01,  1.74233012e-01,\n",
      "         1.86531545e-01,  2.08278252e-01,  4.32377973e-02,\n",
      "         2.03606138e-03,  0.00000000e+00,  6.67383016e-02,\n",
      "         2.28592483e-01,  1.00797175e-01,  1.53683627e-01,\n",
      "         2.56921043e-01,  5.61516193e-02,  7.60579144e-04,\n",
      "         0.00000000e+00,  3.40926907e-02,  1.87422432e-01,\n",
      "         2.20379660e-01,  2.39310171e-01,  2.56277122e-01,\n",
      "         7.09055894e-02,  0.00000000e+00,  0.00000000e+00,\n",
      "         2.62884152e-03,  5.08483917e-02,  9.24334309e-02,\n",
      "         9.13920372e-02,  2.13722574e-01,  9.07546682e-02,\n",
      "         0.00000000e+00,  0.00000000e+00,  2.97162033e-03,\n",
      "         9.98402239e-03,  1.03228807e-02,  4.10827228e-02,\n",
      "         1.80395288e-01,  1.09209722e-01,  4.32225884e-04,\n",
      "         0.00000000e+00,  1.27180349e-02,  1.16155256e-01,\n",
      "         9.20306609e-02,  1.05830194e-01,  1.96693461e-01,\n",
      "         9.60450951e-02,  1.91925041e-03,  0.00000000e+00,\n",
      "         1.70738659e-03,  1.06735341e-01,  2.21809353e-01,\n",
      "         2.41475159e-01,  1.64824339e-01,  3.76761217e-02,\n",
      "         8.64164020e-04],\n",
      "       [ 2.93281071e-18, -8.00085984e-03, -1.65481663e-01,\n",
      "        -1.96043233e-01,  6.27194098e-02,  3.31876093e-01,\n",
      "         2.34871933e-01,  1.94694048e-02,  0.00000000e+00,\n",
      "        -5.62344689e-02, -1.17044443e-01,  1.53998864e-01,\n",
      "        -3.41893719e-02,  4.18764514e-02,  2.93892708e-01,\n",
      "         2.03815339e-02,  0.00000000e+00,  1.38163796e-03,\n",
      "         9.50146396e-02,  9.14272003e-02, -8.52506626e-02,\n",
      "         5.86417339e-02,  2.04983837e-01,  7.79726911e-03,\n",
      "         0.00000000e+00,  6.76020450e-02,  2.22355128e-01,\n",
      "         8.63605100e-02,  7.52956160e-02,  3.41135403e-02,\n",
      "         4.32236200e-02,  0.00000000e+00,  0.00000000e+00,\n",
      "         1.35193299e-02,  1.54214267e-01,  1.41222302e-01,\n",
      "         1.69270435e-01,  3.44110984e-02, -1.23870747e-01,\n",
      "         0.00000000e+00,  0.00000000e+00,  2.73477364e-04,\n",
      "         2.00898797e-04,  3.98451946e-02,  2.49213923e-01,\n",
      "         3.82952114e-02, -2.39109588e-01, -1.67150085e-03,\n",
      "         0.00000000e+00, -8.99253760e-03, -1.51750316e-01,\n",
      "         2.00917266e-02,  2.20577862e-01, -1.12780357e-01,\n",
      "        -2.45705363e-01, -7.52391740e-03,  0.00000000e+00,\n",
      "        -4.67154246e-03, -1.55452856e-01, -1.74220147e-01,\n",
      "        -1.24992460e-01, -2.32139302e-01, -1.14283697e-01,\n",
      "        -3.36253659e-03],\n",
      "       [-2.64543300e-17, -3.42653540e-03, -1.39597566e-01,\n",
      "        -1.45773695e-01, -5.56315126e-02,  1.09628975e-01,\n",
      "         1.33796775e-01,  2.64485964e-02,  0.00000000e+00,\n",
      "        -1.29415417e-01, -1.96793033e-01,  1.63904813e-01,\n",
      "         9.78158134e-02, -5.90445664e-02,  1.37701097e-01,\n",
      "         2.22940209e-02,  0.00000000e+00, -2.38453172e-01,\n",
      "        -1.41507135e-02,  3.48151731e-01,  2.07451398e-01,\n",
      "        -2.31540200e-03,  7.89346867e-02,  6.70405523e-03,\n",
      "         0.00000000e+00, -1.29833780e-01, -2.84546712e-01,\n",
      "         6.98067237e-02, -1.35958862e-02,  7.39702005e-02,\n",
      "         9.19084429e-02,  0.00000000e+00,  0.00000000e+00,\n",
      "        -3.95219333e-03, -1.33123488e-01, -3.23850309e-01,\n",
      "        -3.69403374e-01,  1.27979576e-01,  7.61872026e-02,\n",
      "         0.00000000e+00,  0.00000000e+00,  1.66753224e-02,\n",
      "         7.67732052e-03, -9.79598823e-02, -1.45172331e-01,\n",
      "         1.91549505e-01,  1.88184773e-02,  1.52114718e-03,\n",
      "         0.00000000e+00,  2.58976541e-02,  3.76498926e-02,\n",
      "        -1.07378177e-01,  4.50561284e-02,  1.77306476e-01,\n",
      "        -1.22349552e-02,  3.71821499e-03,  0.00000000e+00,\n",
      "         2.45320986e-03, -1.40870092e-01, -1.54206905e-01,\n",
      "         1.15144242e-01,  1.11147826e-01, -2.21247822e-02,\n",
      "         4.68811556e-04]])}\n"
     ]
    }
   ],
   "source": [
    "def subspaces(labelled_data,k=3):\n",
    "    sub_space = dict()\n",
    "    for label,matrix in labelled_data.items():\n",
    "        U,s,vt = np.linalg.svd(matrix,full_matrices = False)\n",
    "        rank = min(k,np.linalg.matrix_rank(matrix))\n",
    "        sub_space[label] = vt[:rank,:]\n",
    "    return sub_space\n",
    "sub_data = subspaces(spl_data,k = 3)\n",
    "print(sub_data)"
   ]
  },
  {
   "cell_type": "markdown",
   "metadata": {},
   "source": [
    "g) Create a function `classification(spaces, x)` that takes a dictionary such as produced by `subspaces` above and a single vector and produces the label of the subspace with the smallest norm-2-distance. In the task above, this would have meant that classifying $sample4$ would have produced the label 4 rather than 9, since $sample4$ was closer to the subspace $Z_4$ than the subspace $Z_9$."
   ]
  },
  {
   "cell_type": "code",
   "execution_count": 38,
   "metadata": {},
   "outputs": [
    {
     "data": {
      "text/plain": [
       "4"
      ]
     },
     "execution_count": 38,
     "metadata": {},
     "output_type": "execute_result"
    }
   ],
   "source": [
    "def classification(spaces, x):\n",
    "    norm_2_dist = list()\n",
    "    for label,matrix in spaces.items():\n",
    "        coeffs_in_space = matrix @ x\n",
    "        sample_in_space = coeffs_in_space @ matrix\n",
    "        norm_2_dist.append((np.linalg.norm(sample_in_space - x),label))\n",
    "    closest = min(norm_2_dist)[1]   \n",
    "    return closest  \n",
    "d = classification(sub_data,sample4)\n",
    "d"
   ]
  },
  {
   "cell_type": "markdown",
   "metadata": {},
   "source": [
    "h) Now pick the first 600 rows as training and the remaining (about 1100) as validation sets. What percentage does the classifier get right? What happens if you pick $k = 5, 10, 100, 1000$? Try it out. (The sharp-eyed student will notice that not all of these choices make sense from a mathematical perspective.)"
   ]
  },
  {
   "cell_type": "code",
   "execution_count": 39,
   "metadata": {},
   "outputs": [
    {
     "data": {
      "text/plain": [
       "{5: 99.16457811194654,\n",
       " 10: 99.83291562238931,\n",
       " 100: 53.29991645781119,\n",
       " 1000: 53.29991645781119}"
      ]
     },
     "execution_count": 39,
     "metadata": {},
     "output_type": "execute_result"
    }
   ],
   "source": [
    "k_values = [5,10,100,1000]\n",
    "Classification_rate = dict.fromkeys(k_values)\n",
    "\n",
    "for k in k_values:\n",
    "    split = split_data(validation_digits, validation_labels, digits.target_names)\n",
    "    sub_space = subspaces(split, k)\n",
    "    labels = list(map(lambda x: classification(sub_space, x=x), validation_digits))\n",
    "    numerator = sum(labels==validation_labels)\n",
    "    Total = len(validation_labels)\n",
    "    Rate = (numerator/Total)*100\n",
    "    Classification_rate.update({k : Rate})\n",
    "Classification_rate  "
   ]
  },
  {
   "cell_type": "markdown",
   "metadata": {},
   "source": [
    "# 7. Encapsulating the classifier"
   ]
  },
  {
   "cell_type": "markdown",
   "metadata": {},
   "source": [
    "Above we have a set of functions floating around in a global namespace. If we change some data and rerun some cells, we might get unexpected results. We instead want to encapsulate this in a single class."
   ]
  },
  {
   "cell_type": "markdown",
   "metadata": {},
   "source": [
    "a) Create a class `NaiveProjection`. It should have the following properties:\n",
    "* An instance is created with `NaiveProjection(training_data, training_labels, all_labels, k)` where $k$ is optional (and defaults to 3). \n",
    "\n",
    "For instance, we should be able to run ```dig_class = NaiveProjection(training_data = digits.data[0:600,:], training_labels = digits.target[0:600], all_labels = digits.target_names)```.\n",
    "* The class should have a method called `classification` which takes vector and returns the classification of that vector as defined above (minimum 2-norm distance to the subspace).\n",
    "* The class should have a method called `hitrate` which takes a matrix of row vectors, a vector of correct labels and returns the rate of successfully classified \n",
    "* All data about subspaces and labels should be stored within the instance. We may not use any data stored outside (though it is of course OK to call outside functions). We should be able to create two (or more) independent classifiers\n",
    "\n",
    "```\n",
    "dig15 = NaiveProjection(digits.data[0:600, :], digits.target[0:600], k = 15)\n",
    "dig1 = NaiveProjection(digits.data[0:600, :], digits.target[0:600], k = 1)\n",
    "```\n",
    "which should be entirely independent."
   ]
  },
  {
   "cell_type": "code",
   "execution_count": 1,
   "metadata": {},
   "outputs": [],
   "source": [
    "class NaiveProjection:\n",
    "    def __init__(self, data, data_labels, labels, k=3):\n",
    "        self.data = data\n",
    "        self.data_labels = data_labels\n",
    "        self.labels = labels\n",
    "        self.k      = k\n",
    "        self.__split_data = self.split_data()\n",
    "        self.__subspaces = self.subspaces()\n",
    "        \n",
    "    def split_data(self):\n",
    "        split_data = dict()\n",
    "        for label in sorted(self.labels):\n",
    "            split_data[label] = self.data[self.data_labels == label]\n",
    "        return split_data\n",
    "\n",
    "    def subspaces(self):\n",
    "        sub_space = dict()\n",
    "        for label,matrix in self.__split_data.items():\n",
    "            U,S,Vt = np.linalg.svd(self.__split_data[label], full_matrices = False)\n",
    "            rank = min(self.k, np.linalg.matrix_rank(matrix))\n",
    "            sub_space[label] = Vt[:rank,]\n",
    "        return sub_space \n",
    "        \n",
    "    def classification(self, x):\n",
    "        norm_cal = list()\n",
    "        for label,matrix in self.__subspaces.items(): \n",
    "            coeffs_in_spaces = matrix @ x\n",
    "            sample_in_spaces = coeffs_in_spaces @ matrix\n",
    "            norm_cal.append((np.linalg.norm(sample_in_spaces - x), label))\n",
    "        closest = min(norm_cal)[1]\n",
    "        return closest\n",
    "        \n",
    "    def hitrate(self, check_digits, correct_labels):\n",
    "        labels = list(map(lambda x: self.classification(x=x), check_digits))\n",
    "        Classification_rate =  sum(labels == correct_labels)/len(labels)\n",
    "        return Classification_rate"
   ]
  },
  {
   "cell_type": "code",
   "execution_count": 43,
   "metadata": {},
   "outputs": [
    {
     "ename": "TypeError",
     "evalue": "classification() got multiple values for argument 'x'",
     "output_type": "error",
     "traceback": [
      "\u001b[1;31m---------------------------------------------------------------------------\u001b[0m",
      "\u001b[1;31mTypeError\u001b[0m                                 Traceback (most recent call last)",
      "\u001b[1;32m<ipython-input-43-2cc18e47849b>\u001b[0m in \u001b[0;36m<module>\u001b[1;34m\u001b[0m\n\u001b[0;32m      3\u001b[0m \u001b[0mdig15\u001b[0m \u001b[1;33m=\u001b[0m \u001b[0mNaiveProjection\u001b[0m\u001b[1;33m(\u001b[0m\u001b[0mtraining_digits\u001b[0m\u001b[1;33m,\u001b[0m \u001b[0mtraining_labels\u001b[0m\u001b[1;33m,\u001b[0m \u001b[0mdigits\u001b[0m\u001b[1;33m.\u001b[0m\u001b[0mtarget_names\u001b[0m\u001b[1;33m,\u001b[0m \u001b[0mk\u001b[0m \u001b[1;33m=\u001b[0m \u001b[1;36m15\u001b[0m\u001b[1;33m)\u001b[0m\u001b[1;33m\u001b[0m\u001b[1;33m\u001b[0m\u001b[0m\n\u001b[0;32m      4\u001b[0m \u001b[1;33m\u001b[0m\u001b[0m\n\u001b[1;32m----> 5\u001b[1;33m \u001b[0mprint\u001b[0m\u001b[1;33m(\u001b[0m\u001b[1;34mf\"Hit rate for k = 1: {dig1.hitrate(training_digits, training_labels)}\"\u001b[0m\u001b[1;33m)\u001b[0m\u001b[1;33m\u001b[0m\u001b[1;33m\u001b[0m\u001b[0m\n\u001b[0m\u001b[0;32m      6\u001b[0m \u001b[0mprint\u001b[0m\u001b[1;33m(\u001b[0m\u001b[1;34mf\"Hit rate for k = 15: {dig15.hitrate(training_digits, training_labels)}\"\u001b[0m\u001b[1;33m)\u001b[0m\u001b[1;33m\u001b[0m\u001b[1;33m\u001b[0m\u001b[0m\n",
      "\u001b[1;32m<ipython-input-42-8e83e83f53b3>\u001b[0m in \u001b[0;36mhitrate\u001b[1;34m(self, check_digits, correct_labels)\u001b[0m\n\u001b[0;32m     32\u001b[0m \u001b[1;33m\u001b[0m\u001b[0m\n\u001b[0;32m     33\u001b[0m     \u001b[1;32mdef\u001b[0m \u001b[0mhitrate\u001b[0m\u001b[1;33m(\u001b[0m\u001b[0mself\u001b[0m\u001b[1;33m,\u001b[0m \u001b[0mcheck_digits\u001b[0m\u001b[1;33m,\u001b[0m \u001b[0mcorrect_labels\u001b[0m\u001b[1;33m)\u001b[0m\u001b[1;33m:\u001b[0m\u001b[1;33m\u001b[0m\u001b[1;33m\u001b[0m\u001b[0m\n\u001b[1;32m---> 34\u001b[1;33m         \u001b[0mlabels\u001b[0m \u001b[1;33m=\u001b[0m \u001b[0mlist\u001b[0m\u001b[1;33m(\u001b[0m\u001b[0mmap\u001b[0m\u001b[1;33m(\u001b[0m\u001b[1;32mlambda\u001b[0m \u001b[0mx\u001b[0m\u001b[1;33m:\u001b[0m \u001b[0mself\u001b[0m\u001b[1;33m.\u001b[0m\u001b[0mclassification\u001b[0m\u001b[1;33m(\u001b[0m\u001b[0mself\u001b[0m\u001b[1;33m.\u001b[0m\u001b[0m__subspaces\u001b[0m\u001b[1;33m,\u001b[0m \u001b[0mx\u001b[0m\u001b[1;33m=\u001b[0m\u001b[0mx\u001b[0m\u001b[1;33m)\u001b[0m\u001b[1;33m,\u001b[0m \u001b[0mcheck_digits\u001b[0m\u001b[1;33m)\u001b[0m\u001b[1;33m)\u001b[0m\u001b[1;33m\u001b[0m\u001b[1;33m\u001b[0m\u001b[0m\n\u001b[0m\u001b[0;32m     35\u001b[0m         \u001b[0mClassification_rate\u001b[0m \u001b[1;33m=\u001b[0m  \u001b[0msum\u001b[0m\u001b[1;33m(\u001b[0m\u001b[0mlabels\u001b[0m \u001b[1;33m==\u001b[0m \u001b[0mcorrect_labels\u001b[0m\u001b[1;33m)\u001b[0m\u001b[1;33m/\u001b[0m\u001b[0mlen\u001b[0m\u001b[1;33m(\u001b[0m\u001b[0mlabels\u001b[0m\u001b[1;33m)\u001b[0m\u001b[1;33m\u001b[0m\u001b[1;33m\u001b[0m\u001b[0m\n\u001b[0;32m     36\u001b[0m         \u001b[1;32mreturn\u001b[0m \u001b[0mClassification_rate\u001b[0m\u001b[1;33m\u001b[0m\u001b[1;33m\u001b[0m\u001b[0m\n",
      "\u001b[1;32m<ipython-input-42-8e83e83f53b3>\u001b[0m in \u001b[0;36m<lambda>\u001b[1;34m(x)\u001b[0m\n\u001b[0;32m     32\u001b[0m \u001b[1;33m\u001b[0m\u001b[0m\n\u001b[0;32m     33\u001b[0m     \u001b[1;32mdef\u001b[0m \u001b[0mhitrate\u001b[0m\u001b[1;33m(\u001b[0m\u001b[0mself\u001b[0m\u001b[1;33m,\u001b[0m \u001b[0mcheck_digits\u001b[0m\u001b[1;33m,\u001b[0m \u001b[0mcorrect_labels\u001b[0m\u001b[1;33m)\u001b[0m\u001b[1;33m:\u001b[0m\u001b[1;33m\u001b[0m\u001b[1;33m\u001b[0m\u001b[0m\n\u001b[1;32m---> 34\u001b[1;33m         \u001b[0mlabels\u001b[0m \u001b[1;33m=\u001b[0m \u001b[0mlist\u001b[0m\u001b[1;33m(\u001b[0m\u001b[0mmap\u001b[0m\u001b[1;33m(\u001b[0m\u001b[1;32mlambda\u001b[0m \u001b[0mx\u001b[0m\u001b[1;33m:\u001b[0m \u001b[0mself\u001b[0m\u001b[1;33m.\u001b[0m\u001b[0mclassification\u001b[0m\u001b[1;33m(\u001b[0m\u001b[0mself\u001b[0m\u001b[1;33m.\u001b[0m\u001b[0m__subspaces\u001b[0m\u001b[1;33m,\u001b[0m \u001b[0mx\u001b[0m\u001b[1;33m=\u001b[0m\u001b[0mx\u001b[0m\u001b[1;33m)\u001b[0m\u001b[1;33m,\u001b[0m \u001b[0mcheck_digits\u001b[0m\u001b[1;33m)\u001b[0m\u001b[1;33m)\u001b[0m\u001b[1;33m\u001b[0m\u001b[1;33m\u001b[0m\u001b[0m\n\u001b[0m\u001b[0;32m     35\u001b[0m         \u001b[0mClassification_rate\u001b[0m \u001b[1;33m=\u001b[0m  \u001b[0msum\u001b[0m\u001b[1;33m(\u001b[0m\u001b[0mlabels\u001b[0m \u001b[1;33m==\u001b[0m \u001b[0mcorrect_labels\u001b[0m\u001b[1;33m)\u001b[0m\u001b[1;33m/\u001b[0m\u001b[0mlen\u001b[0m\u001b[1;33m(\u001b[0m\u001b[0mlabels\u001b[0m\u001b[1;33m)\u001b[0m\u001b[1;33m\u001b[0m\u001b[1;33m\u001b[0m\u001b[0m\n\u001b[0;32m     36\u001b[0m         \u001b[1;32mreturn\u001b[0m \u001b[0mClassification_rate\u001b[0m\u001b[1;33m\u001b[0m\u001b[1;33m\u001b[0m\u001b[0m\n",
      "\u001b[1;31mTypeError\u001b[0m: classification() got multiple values for argument 'x'"
     ]
    }
   ],
   "source": [
    "# You can test here\n",
    "dig1 = NaiveProjection(training_digits, training_labels, digits.target_names, k = 1)\n",
    "dig15 = NaiveProjection(training_digits, training_labels, digits.target_names, k = 15)\n",
    "\n",
    "print(f\"Hit rate for k = 1: {dig1.hitrate(training_digits, training_labels)}\")\n",
    "print(f\"Hit rate for k = 15: {dig15.hitrate(training_digits, training_labels)}\")"
   ]
  },
  {
   "cell_type": "markdown",
   "metadata": {},
   "source": [
    "There are several noteworthy issues here.\n",
    "* We have taken a few mathematical shortcuts.\n",
    "* There is no error handling. \n",
    "* We have not discussed overlapping subspaces, sampling strategies or the like.\n",
    "* It might make a lot more sense to classify a matrix of vectors, rather than a single vector (to utilise the speed of computations). \n",
    "\n",
    "Most of this is left to an actual statistics course. The interested reader is referred to for instance Strang - Linear algebra and learning from data, or Golub & van Loan - Matrix computations."
   ]
  },
  {
   "cell_type": "markdown",
   "metadata": {},
   "source": [
    "b) Experiment with different values of $k$ and training data/validation data sets. Plot the results using the library ```matplotlib```."
   ]
  },
  {
   "cell_type": "code",
   "execution_count": null,
   "metadata": {},
   "outputs": [],
   "source": [
    "train_classification = list()\n",
    "for k in range(10):\n",
    "    digits_train = NaiveProjection(training_digits, training_labels, digits.target_names, k = k)\n",
    "    train_classification.append(digits_train.hitrate(training_digits, training_labels))\n",
    "\n",
    "validation_classification = list()\n",
    "for k in range(10):\n",
    "    digits_valid = NaiveProjection(validation_digits, validation_labels, digits.target_names, k = k)\n",
    "    validation_classification.append(digits_valid.hitrate(validation_digits, validation_labels))\n",
    "\n",
    "import matplotlib.pyplot as plt   \n",
    "plt.plot(range(10), train_classification, label = \"classcification_rate of training data\") \n",
    "plt.plot(range(10), validation_classification, label = \"classcification_rate of validation data\") \n",
    "plt.xlabel('K-values') \n",
    "plt.ylabel('Classcification Rate') \n",
    "plt.title('Classcification Rate vs K-value') \n",
    "plt.legend() \n",
    "plt.show() \n"
   ]
  },
  {
   "cell_type": "markdown",
   "metadata": {},
   "source": [
    "## Acknowledgments"
   ]
  },
  {
   "cell_type": "markdown",
   "metadata": {},
   "source": [
    "This lab in 732A74 is by Anders Märak Leffler (2019), with a major revision in 2020. The introductory text is by Johan Falkenjack (2018).\n",
    "\n",
    "Licensed under [CC-BY-SA 4.0](https://creativecommons.org/licenses/by-sa/4.0/)."
   ]
  }
 ],
 "metadata": {
  "anaconda-cloud": {},
  "kernelspec": {
   "display_name": "Python 3",
   "language": "python",
   "name": "python3"
  },
  "language_info": {
   "codemirror_mode": {
    "name": "ipython",
    "version": 3
   },
   "file_extension": ".py",
   "mimetype": "text/x-python",
   "name": "python",
   "nbconvert_exporter": "python",
   "pygments_lexer": "ipython3",
   "version": "3.7.4"
  }
 },
 "nbformat": 4,
 "nbformat_minor": 2
}
